{
 "cells": [
  {
   "cell_type": "code",
   "execution_count": 1,
   "id": "28a3c7d0-7a58-48f9-b0a5-1117ae0d6263",
   "metadata": {},
   "outputs": [
    {
     "name": "stdout",
     "output_type": "stream",
     "text": [
      "Collecting indic_transliteration\n",
      "  Downloading indic_transliteration-2.3.68-py3-none-any.whl.metadata (1.4 kB)\n",
      "Collecting backports.functools-lru-cache (from indic_transliteration)\n",
      "  Downloading backports.functools_lru_cache-2.0.0-py2.py3-none-any.whl.metadata (3.5 kB)\n",
      "Requirement already satisfied: regex in c:\\users\\dai.studentsdc\\appdata\\local\\anaconda3\\lib\\site-packages (from indic_transliteration) (2023.10.3)\n",
      "Requirement already satisfied: typer in c:\\users\\dai.studentsdc\\appdata\\local\\anaconda3\\lib\\site-packages (from indic_transliteration) (0.13.0)\n",
      "Requirement already satisfied: toml in c:\\users\\dai.studentsdc\\appdata\\local\\anaconda3\\lib\\site-packages (from indic_transliteration) (0.10.2)\n",
      "Collecting roman (from indic_transliteration)\n",
      "  Downloading roman-4.2-py3-none-any.whl.metadata (3.6 kB)\n",
      "Requirement already satisfied: click>=8.0.0 in c:\\users\\dai.studentsdc\\appdata\\local\\anaconda3\\lib\\site-packages (from typer->indic_transliteration) (8.1.7)\n",
      "Requirement already satisfied: typing-extensions>=3.7.4.3 in c:\\users\\dai.studentsdc\\appdata\\local\\anaconda3\\lib\\site-packages (from typer->indic_transliteration) (4.12.2)\n",
      "Requirement already satisfied: shellingham>=1.3.0 in c:\\users\\dai.studentsdc\\appdata\\local\\anaconda3\\lib\\site-packages (from typer->indic_transliteration) (1.5.4)\n",
      "Requirement already satisfied: rich>=10.11.0 in c:\\users\\dai.studentsdc\\appdata\\local\\anaconda3\\lib\\site-packages (from typer->indic_transliteration) (13.3.5)\n",
      "Requirement already satisfied: colorama in c:\\users\\dai.studentsdc\\appdata\\local\\anaconda3\\lib\\site-packages (from click>=8.0.0->typer->indic_transliteration) (0.4.6)\n",
      "Requirement already satisfied: markdown-it-py<3.0.0,>=2.2.0 in c:\\users\\dai.studentsdc\\appdata\\local\\anaconda3\\lib\\site-packages (from rich>=10.11.0->typer->indic_transliteration) (2.2.0)\n",
      "Requirement already satisfied: pygments<3.0.0,>=2.13.0 in c:\\users\\dai.studentsdc\\appdata\\local\\anaconda3\\lib\\site-packages (from rich>=10.11.0->typer->indic_transliteration) (2.15.1)\n",
      "Requirement already satisfied: mdurl~=0.1 in c:\\users\\dai.studentsdc\\appdata\\local\\anaconda3\\lib\\site-packages (from markdown-it-py<3.0.0,>=2.2.0->rich>=10.11.0->typer->indic_transliteration) (0.1.0)\n",
      "Downloading indic_transliteration-2.3.68-py3-none-any.whl (155 kB)\n",
      "   ---------------------------------------- 0.0/155.3 kB ? eta -:--:--\n",
      "   -- ------------------------------------- 10.2/155.3 kB ? eta -:--:--\n",
      "   ------------------------------- -------- 122.9/155.3 kB 2.4 MB/s eta 0:00:01\n",
      "   ---------------------------------------  153.6/155.3 kB 3.1 MB/s eta 0:00:01\n",
      "   ---------------------------------------  153.6/155.3 kB 3.1 MB/s eta 0:00:01\n",
      "   ---------------------------------------- 155.3/155.3 kB 1.0 MB/s eta 0:00:00\n",
      "Downloading backports.functools_lru_cache-2.0.0-py2.py3-none-any.whl (6.7 kB)\n",
      "Downloading roman-4.2-py3-none-any.whl (5.5 kB)\n",
      "Installing collected packages: roman, backports.functools-lru-cache, indic_transliteration\n",
      "Successfully installed backports.functools-lru-cache-2.0.0 indic_transliteration-2.3.68 roman-4.2\n"
     ]
    }
   ],
   "source": [
    "# Install the library\n",
    "!pip install indic_transliteration"
   ]
  },
  {
   "cell_type": "code",
   "execution_count": 2,
   "id": "5a18070f-6149-4d08-9a05-bed605b60fb8",
   "metadata": {},
   "outputs": [],
   "source": [
    "from indic_transliteration import sanscript\n",
    "from indic_transliteration.sanscript import transliterate"
   ]
  },
  {
   "cell_type": "code",
   "execution_count": 23,
   "id": "2579b8cc-e64f-4dbe-963b-5965bbffbf6b",
   "metadata": {},
   "outputs": [],
   "source": [
    "data = 'alishaa baandal'"
   ]
  },
  {
   "cell_type": "code",
   "execution_count": 24,
   "id": "a37094d8-f214-4b03-ace8-c45ff3bf334a",
   "metadata": {},
   "outputs": [
    {
     "name": "stdout",
     "output_type": "stream",
     "text": [
      "अलिशा बान्दल्\n"
     ]
    }
   ],
   "source": [
    "print(transliterate(data,sanscript.ITRANS, sanscript.DEVANAGARI))"
   ]
  },
  {
   "cell_type": "code",
   "execution_count": 25,
   "id": "0325a63c-dc56-49fe-b379-7164b05edeb0",
   "metadata": {},
   "outputs": [
    {
     "name": "stdout",
     "output_type": "stream",
     "text": [
      "અલિશા બાન્દલ્\n"
     ]
    }
   ],
   "source": [
    "print(transliterate(data,sanscript.ITRANS, sanscript.GUJARATI))"
   ]
  },
  {
   "cell_type": "code",
   "execution_count": 26,
   "id": "461fdb69-d97a-4c80-83a6-34fe75716d35",
   "metadata": {},
   "outputs": [
    {
     "name": "stdout",
     "output_type": "stream",
     "text": [
      "ଅଲିଶା ବାନ୍ଦଲ୍\n"
     ]
    }
   ],
   "source": [
    "print(transliterate(data,sanscript.ITRANS, sanscript.ORIYA))"
   ]
  },
  {
   "cell_type": "code",
   "execution_count": 31,
   "id": "22b537dc-9a4b-443a-a264-0a3c4b79aba3",
   "metadata": {},
   "outputs": [
    {
     "name": "stdin",
     "output_type": "stream",
     "text": [
      "Enter your name:  Aryaa\n"
     ]
    },
    {
     "name": "stdout",
     "output_type": "stream",
     "text": [
      "आर्या\n"
     ]
    }
   ],
   "source": [
    "data = input('Enter your name: ')\n",
    "print(transliterate(data,sanscript.ITRANS, sanscript.DEVANAGARI))"
   ]
  },
  {
   "cell_type": "code",
   "execution_count": null,
   "id": "a68d77d0-8e1b-497b-8d4f-0fca943186da",
   "metadata": {},
   "outputs": [],
   "source": []
  }
 ],
 "metadata": {
  "kernelspec": {
   "display_name": "Python 3 (ipykernel)",
   "language": "python",
   "name": "python3"
  },
  "language_info": {
   "codemirror_mode": {
    "name": "ipython",
    "version": 3
   },
   "file_extension": ".py",
   "mimetype": "text/x-python",
   "name": "python",
   "nbconvert_exporter": "python",
   "pygments_lexer": "ipython3",
   "version": "3.12.4"
  }
 },
 "nbformat": 4,
 "nbformat_minor": 5
}
