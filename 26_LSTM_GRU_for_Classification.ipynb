{
  "nbformat": 4,
  "nbformat_minor": 0,
  "metadata": {
    "colab": {
      "provenance": [],
      "gpuType": "T4",
      "authorship_tag": "ABX9TyNQnkH+F+viBydrqtI1RKaR",
      "include_colab_link": true
    },
    "kernelspec": {
      "name": "python3",
      "display_name": "Python 3"
    },
    "language_info": {
      "name": "python"
    },
    "accelerator": "GPU"
  },
  "cells": [
    {
      "cell_type": "markdown",
      "metadata": {
        "id": "view-in-github",
        "colab_type": "text"
      },
      "source": [
        "<a href=\"https://colab.research.google.com/github/Alisha210302/NLP/blob/main/26_LSTM_GRU_for_Classification.ipynb\" target=\"_parent\"><img src=\"https://colab.research.google.com/assets/colab-badge.svg\" alt=\"Open In Colab\"/></a>"
      ]
    },
    {
      "cell_type": "markdown",
      "source": [
        "### Library for in-built tensorflow datasets"
      ],
      "metadata": {
        "id": "eWYZoffgwXam"
      }
    },
    {
      "cell_type": "code",
      "execution_count": null,
      "metadata": {
        "colab": {
          "base_uri": "https://localhost:8080/"
        },
        "id": "SgkujGOdvmg8",
        "outputId": "14c2caff-aeae-46ee-c7f2-735d35ac9434"
      },
      "outputs": [
        {
          "output_type": "stream",
          "name": "stdout",
          "text": [
            "Requirement already satisfied: tensorflow-datasets in /usr/local/lib/python3.10/dist-packages (4.9.7)\n",
            "Requirement already satisfied: absl-py in /usr/local/lib/python3.10/dist-packages (from tensorflow-datasets) (1.4.0)\n",
            "Requirement already satisfied: click in /usr/local/lib/python3.10/dist-packages (from tensorflow-datasets) (8.1.7)\n",
            "Requirement already satisfied: dm-tree in /usr/local/lib/python3.10/dist-packages (from tensorflow-datasets) (0.1.8)\n",
            "Requirement already satisfied: immutabledict in /usr/local/lib/python3.10/dist-packages (from tensorflow-datasets) (4.2.1)\n",
            "Requirement already satisfied: numpy in /usr/local/lib/python3.10/dist-packages (from tensorflow-datasets) (1.26.4)\n",
            "Requirement already satisfied: promise in /usr/local/lib/python3.10/dist-packages (from tensorflow-datasets) (2.3)\n",
            "Requirement already satisfied: protobuf>=3.20 in /usr/local/lib/python3.10/dist-packages (from tensorflow-datasets) (4.25.5)\n",
            "Requirement already satisfied: psutil in /usr/local/lib/python3.10/dist-packages (from tensorflow-datasets) (5.9.5)\n",
            "Requirement already satisfied: pyarrow in /usr/local/lib/python3.10/dist-packages (from tensorflow-datasets) (17.0.0)\n",
            "Requirement already satisfied: requests>=2.19.0 in /usr/local/lib/python3.10/dist-packages (from tensorflow-datasets) (2.32.3)\n",
            "Requirement already satisfied: simple-parsing in /usr/local/lib/python3.10/dist-packages (from tensorflow-datasets) (0.1.6)\n",
            "Requirement already satisfied: tensorflow-metadata in /usr/local/lib/python3.10/dist-packages (from tensorflow-datasets) (1.13.1)\n",
            "Requirement already satisfied: termcolor in /usr/local/lib/python3.10/dist-packages (from tensorflow-datasets) (2.5.0)\n",
            "Requirement already satisfied: toml in /usr/local/lib/python3.10/dist-packages (from tensorflow-datasets) (0.10.2)\n",
            "Requirement already satisfied: tqdm in /usr/local/lib/python3.10/dist-packages (from tensorflow-datasets) (4.66.6)\n",
            "Requirement already satisfied: wrapt in /usr/local/lib/python3.10/dist-packages (from tensorflow-datasets) (1.17.0)\n",
            "Requirement already satisfied: array-record>=0.5.0 in /usr/local/lib/python3.10/dist-packages (from tensorflow-datasets) (0.5.1)\n",
            "Requirement already satisfied: etils>=1.6.0 in /usr/local/lib/python3.10/dist-packages (from etils[edc,enp,epath,epy,etree]>=1.6.0; python_version < \"3.11\"->tensorflow-datasets) (1.11.0)\n",
            "Requirement already satisfied: typing_extensions in /usr/local/lib/python3.10/dist-packages (from etils[edc,enp,epath,epy,etree]>=1.6.0; python_version < \"3.11\"->tensorflow-datasets) (4.12.2)\n",
            "Requirement already satisfied: fsspec in /usr/local/lib/python3.10/dist-packages (from etils[edc,enp,epath,epy,etree]>=1.6.0; python_version < \"3.11\"->tensorflow-datasets) (2024.10.0)\n",
            "Requirement already satisfied: importlib_resources in /usr/local/lib/python3.10/dist-packages (from etils[edc,enp,epath,epy,etree]>=1.6.0; python_version < \"3.11\"->tensorflow-datasets) (6.4.5)\n",
            "Requirement already satisfied: zipp in /usr/local/lib/python3.10/dist-packages (from etils[edc,enp,epath,epy,etree]>=1.6.0; python_version < \"3.11\"->tensorflow-datasets) (3.21.0)\n",
            "Requirement already satisfied: charset-normalizer<4,>=2 in /usr/local/lib/python3.10/dist-packages (from requests>=2.19.0->tensorflow-datasets) (3.4.0)\n",
            "Requirement already satisfied: idna<4,>=2.5 in /usr/local/lib/python3.10/dist-packages (from requests>=2.19.0->tensorflow-datasets) (3.10)\n",
            "Requirement already satisfied: urllib3<3,>=1.21.1 in /usr/local/lib/python3.10/dist-packages (from requests>=2.19.0->tensorflow-datasets) (2.2.3)\n",
            "Requirement already satisfied: certifi>=2017.4.17 in /usr/local/lib/python3.10/dist-packages (from requests>=2.19.0->tensorflow-datasets) (2024.8.30)\n",
            "Requirement already satisfied: six in /usr/local/lib/python3.10/dist-packages (from promise->tensorflow-datasets) (1.17.0)\n",
            "Requirement already satisfied: docstring-parser<1.0,>=0.15 in /usr/local/lib/python3.10/dist-packages (from simple-parsing->tensorflow-datasets) (0.16)\n",
            "Requirement already satisfied: googleapis-common-protos<2,>=1.52.0 in /usr/local/lib/python3.10/dist-packages (from tensorflow-metadata->tensorflow-datasets) (1.66.0)\n"
          ]
        }
      ],
      "source": [
        "pip install tensorflow-datasets"
      ]
    },
    {
      "cell_type": "code",
      "source": [
        "import numpy as np\n",
        "import tensorflow as tf\n",
        "import tensorflow_datasets as tfds"
      ],
      "metadata": {
        "id": "2J4v2aGlwfLr"
      },
      "execution_count": null,
      "outputs": []
    },
    {
      "cell_type": "code",
      "source": [
        "imdb , info = tfds.load(\"imdb_reviews\",with_info=True,as_supervised=True)"
      ],
      "metadata": {
        "id": "JyhzSXwkxNO8"
      },
      "execution_count": null,
      "outputs": []
    },
    {
      "cell_type": "code",
      "source": [
        "info"
      ],
      "metadata": {
        "colab": {
          "base_uri": "https://localhost:8080/"
        },
        "id": "2clGoBtjxNvz",
        "outputId": "9dd262cf-f3d8-47dc-f9a5-0f4da3a56c25"
      },
      "execution_count": null,
      "outputs": [
        {
          "output_type": "execute_result",
          "data": {
            "text/plain": [
              "tfds.core.DatasetInfo(\n",
              "    name='imdb_reviews',\n",
              "    full_name='imdb_reviews/plain_text/1.0.0',\n",
              "    description=\"\"\"\n",
              "    Large Movie Review Dataset. This is a dataset for binary sentiment\n",
              "    classification containing substantially more data than previous benchmark\n",
              "    datasets. We provide a set of 25,000 highly polar movie reviews for training,\n",
              "    and 25,000 for testing. There is additional unlabeled data for use as well.\n",
              "    \"\"\",\n",
              "    config_description=\"\"\"\n",
              "    Plain text\n",
              "    \"\"\",\n",
              "    homepage='http://ai.stanford.edu/~amaas/data/sentiment/',\n",
              "    data_dir='/root/tensorflow_datasets/imdb_reviews/plain_text/1.0.0',\n",
              "    file_format=tfrecord,\n",
              "    download_size=80.23 MiB,\n",
              "    dataset_size=129.83 MiB,\n",
              "    features=FeaturesDict({\n",
              "        'label': ClassLabel(shape=(), dtype=int64, num_classes=2),\n",
              "        'text': Text(shape=(), dtype=string),\n",
              "    }),\n",
              "    supervised_keys=('text', 'label'),\n",
              "    disable_shuffling=False,\n",
              "    splits={\n",
              "        'test': <SplitInfo num_examples=25000, num_shards=1>,\n",
              "        'train': <SplitInfo num_examples=25000, num_shards=1>,\n",
              "        'unsupervised': <SplitInfo num_examples=50000, num_shards=1>,\n",
              "    },\n",
              "    citation=\"\"\"@InProceedings{maas-EtAl:2011:ACL-HLT2011,\n",
              "      author    = {Maas, Andrew L.  and  Daly, Raymond E.  and  Pham, Peter T.  and  Huang, Dan  and  Ng, Andrew Y.  and  Potts, Christopher},\n",
              "      title     = {Learning Word Vectors for Sentiment Analysis},\n",
              "      booktitle = {Proceedings of the 49th Annual Meeting of the Association for Computational Linguistics: Human Language Technologies},\n",
              "      month     = {June},\n",
              "      year      = {2011},\n",
              "      address   = {Portland, Oregon, USA},\n",
              "      publisher = {Association for Computational Linguistics},\n",
              "      pages     = {142--150},\n",
              "      url       = {http://www.aclweb.org/anthology/P11-1015}\n",
              "    }\"\"\",\n",
              ")"
            ]
          },
          "metadata": {},
          "execution_count": 29
        }
      ]
    },
    {
      "cell_type": "code",
      "source": [
        "type(imdb)"
      ],
      "metadata": {
        "colab": {
          "base_uri": "https://localhost:8080/"
        },
        "id": "9XHj0sFqxZpj",
        "outputId": "2288ea49-c7ec-4ebd-e27e-f9ac0985307d"
      },
      "execution_count": null,
      "outputs": [
        {
          "output_type": "execute_result",
          "data": {
            "text/plain": [
              "dict"
            ]
          },
          "metadata": {},
          "execution_count": 30
        }
      ]
    },
    {
      "cell_type": "code",
      "source": [
        "train_data , test_data = imdb['train'], imdb['test']"
      ],
      "metadata": {
        "id": "uNVHxF6BxpIQ"
      },
      "execution_count": null,
      "outputs": []
    },
    {
      "cell_type": "code",
      "source": [
        "imdb.keys()"
      ],
      "metadata": {
        "colab": {
          "base_uri": "https://localhost:8080/"
        },
        "id": "bPnJp1723YqX",
        "outputId": "92ef61c1-f4de-47bc-a4c2-54acd2619f6b"
      },
      "execution_count": null,
      "outputs": [
        {
          "output_type": "execute_result",
          "data": {
            "text/plain": [
              "dict_keys(['train', 'test', 'unsupervised'])"
            ]
          },
          "metadata": {},
          "execution_count": 40
        }
      ]
    },
    {
      "cell_type": "code",
      "source": [
        "training_sentences = []\n",
        "training_labels = []\n",
        "\n",
        "testing_sentences = []\n",
        "testing_labels = []\n",
        "\n",
        "for s,l in train_data:\n",
        "  training_sentences.append(str(s.numpy()))\n",
        "  training_labels.append(l.numpy())\n",
        "\n",
        "for s,l in test_data:\n",
        "  testing_sentences.append(str(s.numpy()))\n",
        "  testing_labels.append(l.numpy())"
      ],
      "metadata": {
        "id": "ae3wgvFlyJVM"
      },
      "execution_count": null,
      "outputs": []
    },
    {
      "cell_type": "code",
      "source": [
        "len(training_sentences)"
      ],
      "metadata": {
        "colab": {
          "base_uri": "https://localhost:8080/"
        },
        "id": "rWiClToZ2xp2",
        "outputId": "025fc6e1-a660-4966-b2a3-ec7a359bc72e"
      },
      "execution_count": null,
      "outputs": [
        {
          "output_type": "execute_result",
          "data": {
            "text/plain": [
              "25000"
            ]
          },
          "metadata": {},
          "execution_count": 43
        }
      ]
    },
    {
      "cell_type": "code",
      "source": [
        "print(training_sentences[21])"
      ],
      "metadata": {
        "colab": {
          "base_uri": "https://localhost:8080/"
        },
        "id": "BFWdkEj3y456",
        "outputId": "ab04a97d-653e-4fcf-84e9-2df1b0fcb430"
      },
      "execution_count": null,
      "outputs": [
        {
          "output_type": "stream",
          "name": "stdout",
          "text": [
            "b'In a time of magic, barbarians and demons abound a diabolical tyrant named Nekhron and his mother Queen Juliane who lives in the realm of ice and wants to conquer the region of fire ruled by the King Jerol but when his beautiful daughter Princess Teegra has been kidnapped by Nekhron\\'s goons, a warrior named Larn must protect her and must defeat Nekhron from taking over the world and the kingdom with the help of an avenger named Darkwolf.<br /><br />A nicely done and excellent underrated animated fantasy epic that combines live actors with animation traced over them ( rotoscoping), it\\'s Ralph Bakshi\\'s second best movie only with \"American Pop\" being number one and \"Heavy Traffic\" being third and \"Wizards\" being fourth. It\\'s certainly better than his \"Cool World\" or \"Lord of the Rings\", the artwork is designed by famed artist Frank Farzetta and the animation has good coloring and there\\'s also a hottie for the guys.<br /><br />I highly recommend this movie to fantasy and animation lovers everywhere especially the new 2-Disc Limited Edition DVD from Blue Underground.<br /><br />Also recommended: \"The Black Cauldron\", \"The Dark Crystal\", \"Conan The Barbarian\", \"The Wizard of Oz\", \" Rock & Rule\", \"Wizards\", \"Heavy Metal\", \"Starchaser: Legend of Orin\", \"Fantastic Planet\", \" Princess Mononoke\", \" Nausicca: Valley of the Wind\", \" Conan The Destroyer\", \" Willow\", \" The Princess Bride\", \"Lord of the Rings ( 1978)\", \" The Sword in The Stone\", \" Excalibur\", \" Army of Darkness\", \" Krull\", \"Dragonheart\", \" King Arthur\", \" The Hobbit\", \" Return of the King ( 1980)\", \"Conquest\", \" American Pop\", \" Jason and The Argonauts\", \" Clash of the Titans\", \" The Last Unicorn\", \" The Secret of NIMH\", \"The Flight of Dragons\", \" Hercules (Disney)\", \" Legend\", \" The Chronicles of Narnia\", \" Harry Potter and The Goblet of Fire\".'\n"
          ]
        }
      ]
    },
    {
      "cell_type": "code",
      "source": [
        "print(training_labels[21])"
      ],
      "metadata": {
        "colab": {
          "base_uri": "https://localhost:8080/"
        },
        "id": "c9-FIEfpzKLY",
        "outputId": "91b5dbb4-d84c-42b1-faaf-925d62050d8b"
      },
      "execution_count": null,
      "outputs": [
        {
          "output_type": "stream",
          "name": "stdout",
          "text": [
            "1\n"
          ]
        }
      ]
    },
    {
      "cell_type": "code",
      "source": [
        "len(training_sentences), len(training_labels)"
      ],
      "metadata": {
        "colab": {
          "base_uri": "https://localhost:8080/"
        },
        "id": "CNhw70NgzO0H",
        "outputId": "36f608c0-3a2d-4f17-f590-2295483a5db5"
      },
      "execution_count": null,
      "outputs": [
        {
          "output_type": "execute_result",
          "data": {
            "text/plain": [
              "(25000, 25000)"
            ]
          },
          "metadata": {},
          "execution_count": 46
        }
      ]
    },
    {
      "cell_type": "code",
      "source": [
        "len(testing_sentences), len(testing_labels)"
      ],
      "metadata": {
        "colab": {
          "base_uri": "https://localhost:8080/"
        },
        "id": "__Qz2tyVzUCV",
        "outputId": "7ac19c72-2306-44e0-d972-55df32b98dd4"
      },
      "execution_count": null,
      "outputs": [
        {
          "output_type": "execute_result",
          "data": {
            "text/plain": [
              "(25000, 25000)"
            ]
          },
          "metadata": {},
          "execution_count": 47
        }
      ]
    },
    {
      "cell_type": "code",
      "source": [
        "training_labels = np.array(training_labels)\n",
        "testing_labels = np.array(testing_labels)"
      ],
      "metadata": {
        "id": "Pei_fJ6mzcC2"
      },
      "execution_count": null,
      "outputs": []
    },
    {
      "cell_type": "markdown",
      "source": [
        "### Preprocessing"
      ],
      "metadata": {
        "id": "2S-qummx0G8b"
      }
    },
    {
      "cell_type": "code",
      "source": [
        "import tensorflow\n",
        "from tensorflow.keras.preprocessing.text import Tokenizer\n",
        "from tensorflow.keras.preprocessing.sequence import pad_sequences"
      ],
      "metadata": {
        "id": "RAWFd440zlhU"
      },
      "execution_count": null,
      "outputs": []
    },
    {
      "cell_type": "code",
      "source": [
        "tokenizer = Tokenizer(num_words=10000)"
      ],
      "metadata": {
        "id": "3DQhMkwb0RSC"
      },
      "execution_count": null,
      "outputs": []
    },
    {
      "cell_type": "code",
      "source": [
        "tokenizer.fit_on_texts(training_sentences)"
      ],
      "metadata": {
        "id": "A_jGbQ2L0W0x"
      },
      "execution_count": null,
      "outputs": []
    },
    {
      "cell_type": "code",
      "source": [
        "word_index = tokenizer.word_index"
      ],
      "metadata": {
        "id": "33C7-Wo90cVh"
      },
      "execution_count": null,
      "outputs": []
    },
    {
      "cell_type": "code",
      "source": [
        "word_index"
      ],
      "metadata": {
        "colab": {
          "base_uri": "https://localhost:8080/"
        },
        "id": "8dcFFU330g6Q",
        "outputId": "cbf331c4-6b58-4cab-fbbd-8518c064a228"
      },
      "execution_count": null,
      "outputs": [
        {
          "output_type": "execute_result",
          "data": {
            "text/plain": [
              "{'the': 1,\n",
              " 'and': 2,\n",
              " 'a': 3,\n",
              " 'of': 4,\n",
              " 'to': 5,\n",
              " 'is': 6,\n",
              " 'br': 7,\n",
              " 'in': 8,\n",
              " 'it': 9,\n",
              " 'i': 10,\n",
              " 'this': 11,\n",
              " 'that': 12,\n",
              " 'was': 13,\n",
              " 'as': 14,\n",
              " 'for': 15,\n",
              " 'with': 16,\n",
              " 'movie': 17,\n",
              " 'but': 18,\n",
              " 'film': 19,\n",
              " \"'s\": 20,\n",
              " 'on': 21,\n",
              " 'you': 22,\n",
              " 'not': 23,\n",
              " 'are': 24,\n",
              " 'his': 25,\n",
              " 'he': 26,\n",
              " 'have': 27,\n",
              " 'be': 28,\n",
              " 'one': 29,\n",
              " 'all': 30,\n",
              " 'at': 31,\n",
              " 'by': 32,\n",
              " 'they': 33,\n",
              " 'an': 34,\n",
              " 'who': 35,\n",
              " 'so': 36,\n",
              " 'from': 37,\n",
              " 'like': 38,\n",
              " 'her': 39,\n",
              " \"'t\": 40,\n",
              " 'or': 41,\n",
              " 'just': 42,\n",
              " 'there': 43,\n",
              " 'about': 44,\n",
              " 'out': 45,\n",
              " \"'\": 46,\n",
              " 'has': 47,\n",
              " 'if': 48,\n",
              " 'some': 49,\n",
              " 'what': 50,\n",
              " 'good': 51,\n",
              " 'more': 52,\n",
              " 'very': 53,\n",
              " 'when': 54,\n",
              " 'she': 55,\n",
              " 'up': 56,\n",
              " 'can': 57,\n",
              " 'b': 58,\n",
              " 'time': 59,\n",
              " 'no': 60,\n",
              " 'even': 61,\n",
              " 'my': 62,\n",
              " 'would': 63,\n",
              " 'which': 64,\n",
              " 'story': 65,\n",
              " 'only': 66,\n",
              " 'really': 67,\n",
              " 'see': 68,\n",
              " 'their': 69,\n",
              " 'had': 70,\n",
              " 'were': 71,\n",
              " 'me': 72,\n",
              " 'well': 73,\n",
              " 'we': 74,\n",
              " 'than': 75,\n",
              " 'much': 76,\n",
              " 'been': 77,\n",
              " 'get': 78,\n",
              " 'bad': 79,\n",
              " 'will': 80,\n",
              " 'people': 81,\n",
              " 'do': 82,\n",
              " 'also': 83,\n",
              " 'other': 84,\n",
              " 'into': 85,\n",
              " 'because': 86,\n",
              " 'great': 87,\n",
              " 'first': 88,\n",
              " 'him': 89,\n",
              " 'how': 90,\n",
              " 'most': 91,\n",
              " 'made': 92,\n",
              " 'its': 93,\n",
              " 'then': 94,\n",
              " 'way': 95,\n",
              " 'make': 96,\n",
              " 'them': 97,\n",
              " 'could': 98,\n",
              " 'too': 99,\n",
              " 'movies': 100,\n",
              " 'any': 101,\n",
              " \"it's\": 102,\n",
              " 'after': 103,\n",
              " 'think': 104,\n",
              " 'characters': 105,\n",
              " 'watch': 106,\n",
              " 'two': 107,\n",
              " 'films': 108,\n",
              " 'character': 109,\n",
              " 'seen': 110,\n",
              " 'many': 111,\n",
              " 'life': 112,\n",
              " 'being': 113,\n",
              " 'plot': 114,\n",
              " 'acting': 115,\n",
              " 'never': 116,\n",
              " 'little': 117,\n",
              " 'love': 118,\n",
              " 'best': 119,\n",
              " 'where': 120,\n",
              " 'over': 121,\n",
              " 'did': 122,\n",
              " 'show': 123,\n",
              " 'know': 124,\n",
              " 'off': 125,\n",
              " 'ever': 126,\n",
              " 'does': 127,\n",
              " 'man': 128,\n",
              " 'better': 129,\n",
              " 'your': 130,\n",
              " 'here': 131,\n",
              " 'end': 132,\n",
              " 'still': 133,\n",
              " 'these': 134,\n",
              " 'say': 135,\n",
              " 'scene': 136,\n",
              " 'why': 137,\n",
              " 'while': 138,\n",
              " 'scenes': 139,\n",
              " 'go': 140,\n",
              " 'such': 141,\n",
              " 'something': 142,\n",
              " 'should': 143,\n",
              " 'through': 144,\n",
              " 'back': 145,\n",
              " 'don': 146,\n",
              " 'real': 147,\n",
              " 'those': 148,\n",
              " 'now': 149,\n",
              " 'watching': 150,\n",
              " 'though': 151,\n",
              " 'thing': 152,\n",
              " 'old': 153,\n",
              " 'years': 154,\n",
              " 'actors': 155,\n",
              " 'work': 156,\n",
              " 'director': 157,\n",
              " 'new': 158,\n",
              " 'another': 159,\n",
              " 'before': 160,\n",
              " 'funny': 161,\n",
              " 'nothing': 162,\n",
              " 'actually': 163,\n",
              " 'makes': 164,\n",
              " 'look': 165,\n",
              " 'find': 166,\n",
              " 'going': 167,\n",
              " 'few': 168,\n",
              " 'same': 169,\n",
              " 'part': 170,\n",
              " 'again': 171,\n",
              " 'lot': 172,\n",
              " \"don't\": 173,\n",
              " 'every': 174,\n",
              " '10': 175,\n",
              " 'cast': 176,\n",
              " 'us': 177,\n",
              " 'world': 178,\n",
              " 'quite': 179,\n",
              " 'down': 180,\n",
              " 'want': 181,\n",
              " 'things': 182,\n",
              " 'pretty': 183,\n",
              " 'young': 184,\n",
              " 'seems': 185,\n",
              " 'around': 186,\n",
              " 'got': 187,\n",
              " 'horror': 188,\n",
              " 'however': 189,\n",
              " 'fact': 190,\n",
              " 'take': 191,\n",
              " 'big': 192,\n",
              " 'enough': 193,\n",
              " 'long': 194,\n",
              " 'thought': 195,\n",
              " 'both': 196,\n",
              " 'series': 197,\n",
              " 'between': 198,\n",
              " 'may': 199,\n",
              " 'give': 200,\n",
              " 'original': 201,\n",
              " 'own': 202,\n",
              " 'action': 203,\n",
              " 'right': 204,\n",
              " 'without': 205,\n",
              " 'times': 206,\n",
              " 'always': 207,\n",
              " 'comedy': 208,\n",
              " 'point': 209,\n",
              " 'must': 210,\n",
              " 'gets': 211,\n",
              " 'role': 212,\n",
              " 'come': 213,\n",
              " 'family': 214,\n",
              " 'saw': 215,\n",
              " 'almost': 216,\n",
              " 'interesting': 217,\n",
              " 'least': 218,\n",
              " 'done': 219,\n",
              " 'whole': 220,\n",
              " 'bit': 221,\n",
              " 'music': 222,\n",
              " 'script': 223,\n",
              " 'guy': 224,\n",
              " 'far': 225,\n",
              " 'xc2': 226,\n",
              " 'anything': 227,\n",
              " 'making': 228,\n",
              " 'minutes': 229,\n",
              " 'feel': 230,\n",
              " 'last': 231,\n",
              " 'might': 232,\n",
              " 'performance': 233,\n",
              " 'since': 234,\n",
              " '2': 235,\n",
              " 'probably': 236,\n",
              " 'girl': 237,\n",
              " 'kind': 238,\n",
              " 'am': 239,\n",
              " 'away': 240,\n",
              " 'tv': 241,\n",
              " 'yet': 242,\n",
              " 'woman': 243,\n",
              " 'rather': 244,\n",
              " 'day': 245,\n",
              " \"'ve\": 246,\n",
              " 'worst': 247,\n",
              " 'fun': 248,\n",
              " 'sure': 249,\n",
              " 'hard': 250,\n",
              " \"'m\": 251,\n",
              " 'doesn': 252,\n",
              " 'anyone': 253,\n",
              " 'played': 254,\n",
              " \"b'i\": 255,\n",
              " 'each': 256,\n",
              " 'found': 257,\n",
              " 'xc3': 258,\n",
              " 'especially': 259,\n",
              " 'course': 260,\n",
              " 'our': 261,\n",
              " 'having': 262,\n",
              " 'believe': 263,\n",
              " 'comes': 264,\n",
              " 'screen': 265,\n",
              " 'looking': 266,\n",
              " 'although': 267,\n",
              " 'trying': 268,\n",
              " 'goes': 269,\n",
              " 'set': 270,\n",
              " 'looks': 271,\n",
              " 'place': 272,\n",
              " 'book': 273,\n",
              " 'different': 274,\n",
              " 'put': 275,\n",
              " 'money': 276,\n",
              " 'actor': 277,\n",
              " 'ending': 278,\n",
              " 'maybe': 279,\n",
              " 'year': 280,\n",
              " 'sense': 281,\n",
              " 'reason': 282,\n",
              " 'true': 283,\n",
              " 'everything': 284,\n",
              " 'dvd': 285,\n",
              " 'shows': 286,\n",
              " 'once': 287,\n",
              " 'didn': 288,\n",
              " 'someone': 289,\n",
              " 'three': 290,\n",
              " 'worth': 291,\n",
              " 'job': 292,\n",
              " \"'re\": 293,\n",
              " 'main': 294,\n",
              " 'together': 295,\n",
              " 'play': 296,\n",
              " 'watched': 297,\n",
              " 'american': 298,\n",
              " 'plays': 299,\n",
              " '1': 300,\n",
              " 'effects': 301,\n",
              " 'later': 302,\n",
              " 'said': 303,\n",
              " 'takes': 304,\n",
              " 'instead': 305,\n",
              " 'audience': 306,\n",
              " 'seem': 307,\n",
              " 'john': 308,\n",
              " 'beautiful': 309,\n",
              " 'everyone': 310,\n",
              " 'himself': 311,\n",
              " 'version': 312,\n",
              " 'house': 313,\n",
              " 'high': 314,\n",
              " 'night': 315,\n",
              " 'during': 316,\n",
              " 'left': 317,\n",
              " \"i'm\": 318,\n",
              " 'special': 319,\n",
              " 'wife': 320,\n",
              " 'seeing': 321,\n",
              " 'half': 322,\n",
              " 'let': 323,\n",
              " 'star': 324,\n",
              " 'father': 325,\n",
              " 'excellent': 326,\n",
              " 'shot': 327,\n",
              " 'war': 328,\n",
              " \"didn't\": 329,\n",
              " 'idea': 330,\n",
              " 'black': 331,\n",
              " 'nice': 332,\n",
              " 'less': 333,\n",
              " 'mind': 334,\n",
              " 'else': 335,\n",
              " 'read': 336,\n",
              " \"doesn't\": 337,\n",
              " 'second': 338,\n",
              " 'simply': 339,\n",
              " 'fan': 340,\n",
              " 'help': 341,\n",
              " 'death': 342,\n",
              " 'poor': 343,\n",
              " 'completely': 344,\n",
              " '3': 345,\n",
              " 'men': 346,\n",
              " 'used': 347,\n",
              " 'home': 348,\n",
              " 'either': 349,\n",
              " 'short': 350,\n",
              " 'hollywood': 351,\n",
              " 'line': 352,\n",
              " 'dead': 353,\n",
              " 'given': 354,\n",
              " 'top': 355,\n",
              " 'budget': 356,\n",
              " 'kids': 357,\n",
              " 'try': 358,\n",
              " \"b'this\": 359,\n",
              " 'performances': 360,\n",
              " 'wrong': 361,\n",
              " 'classic': 362,\n",
              " 'enjoy': 363,\n",
              " 'boring': 364,\n",
              " 'need': 365,\n",
              " 'rest': 366,\n",
              " 'use': 367,\n",
              " 'low': 368,\n",
              " 'women': 369,\n",
              " 'production': 370,\n",
              " 'isn': 371,\n",
              " 'friends': 372,\n",
              " 'until': 373,\n",
              " 'camera': 374,\n",
              " 'along': 375,\n",
              " 'full': 376,\n",
              " 'truly': 377,\n",
              " 'video': 378,\n",
              " 'awful': 379,\n",
              " 'next': 380,\n",
              " 'tell': 381,\n",
              " 'couple': 382,\n",
              " 'start': 383,\n",
              " 'stupid': 384,\n",
              " 'remember': 385,\n",
              " 'mean': 386,\n",
              " 'sex': 387,\n",
              " 'stars': 388,\n",
              " 'perhaps': 389,\n",
              " 'came': 390,\n",
              " 'recommend': 391,\n",
              " 'moments': 392,\n",
              " 'episode': 393,\n",
              " 'wonderful': 394,\n",
              " 'school': 395,\n",
              " 'understand': 396,\n",
              " 'small': 397,\n",
              " 'face': 398,\n",
              " 'terrible': 399,\n",
              " 'playing': 400,\n",
              " \"i've\": 401,\n",
              " 'getting': 402,\n",
              " 'written': 403,\n",
              " \"'ll\": 404,\n",
              " 'early': 405,\n",
              " 'doing': 406,\n",
              " 'often': 407,\n",
              " 'name': 408,\n",
              " 'keep': 409,\n",
              " 'perfect': 410,\n",
              " 'style': 411,\n",
              " 'human': 412,\n",
              " 'others': 413,\n",
              " 'gives': 414,\n",
              " 'definitely': 415,\n",
              " 'person': 416,\n",
              " 'itself': 417,\n",
              " 'lines': 418,\n",
              " 'live': 419,\n",
              " 'become': 420,\n",
              " \"can't\": 421,\n",
              " 'dialogue': 422,\n",
              " 'head': 423,\n",
              " 'lost': 424,\n",
              " 'piece': 425,\n",
              " 'case': 426,\n",
              " 'felt': 427,\n",
              " 'finally': 428,\n",
              " 'boy': 429,\n",
              " 'supposed': 430,\n",
              " 'liked': 431,\n",
              " 'title': 432,\n",
              " 'yes': 433,\n",
              " 'white': 434,\n",
              " 'cinema': 435,\n",
              " 'picture': 436,\n",
              " 'against': 437,\n",
              " 'absolutely': 438,\n",
              " 'mother': 439,\n",
              " 'sort': 440,\n",
              " 'worse': 441,\n",
              " 'entire': 442,\n",
              " 'certainly': 443,\n",
              " 'went': 444,\n",
              " 'waste': 445,\n",
              " 'problem': 446,\n",
              " 'hope': 447,\n",
              " 'entertaining': 448,\n",
              " 'evil': 449,\n",
              " 'mr': 450,\n",
              " 'overall': 451,\n",
              " 'called': 452,\n",
              " 'children': 453,\n",
              " 'loved': 454,\n",
              " 'based': 455,\n",
              " 'killer': 456,\n",
              " 'several': 457,\n",
              " 'friend': 458,\n",
              " 'fans': 459,\n",
              " \"that's\": 460,\n",
              " 'drama': 461,\n",
              " \"isn't\": 462,\n",
              " 'beginning': 463,\n",
              " 'lives': 464,\n",
              " 'direction': 465,\n",
              " '5': 466,\n",
              " 'care': 467,\n",
              " 'becomes': 468,\n",
              " 'already': 469,\n",
              " \"'d\": 470,\n",
              " 'laugh': 471,\n",
              " 'example': 472,\n",
              " 'oh': 473,\n",
              " 'dark': 474,\n",
              " 'under': 475,\n",
              " 'seemed': 476,\n",
              " 'throughout': 477,\n",
              " 'turn': 478,\n",
              " '4': 479,\n",
              " 'wanted': 480,\n",
              " 'unfortunately': 481,\n",
              " 'x96': 482,\n",
              " 'son': 483,\n",
              " 'despite': 484,\n",
              " 'history': 485,\n",
              " 'fine': 486,\n",
              " 'final': 487,\n",
              " 'sound': 488,\n",
              " 'heart': 489,\n",
              " 'amazing': 490,\n",
              " 'guess': 491,\n",
              " 'lead': 492,\n",
              " 'humor': 493,\n",
              " 'totally': 494,\n",
              " 'michael': 495,\n",
              " 'writing': 496,\n",
              " 'quality': 497,\n",
              " \"there's\": 498,\n",
              " 'guys': 499,\n",
              " 'close': 500,\n",
              " 'wants': 501,\n",
              " 'child': 502,\n",
              " 'behind': 503,\n",
              " 'works': 504,\n",
              " 'tries': 505,\n",
              " 'side': 506,\n",
              " 'art': 507,\n",
              " 'game': 508,\n",
              " 'past': 509,\n",
              " 'town': 510,\n",
              " 'days': 511,\n",
              " 'able': 512,\n",
              " 'flick': 513,\n",
              " 'hand': 514,\n",
              " 'turns': 515,\n",
              " 'genre': 516,\n",
              " 'act': 517,\n",
              " 'enjoyed': 518,\n",
              " 'viewer': 519,\n",
              " 'favorite': 520,\n",
              " 'kill': 521,\n",
              " 'car': 522,\n",
              " 'soon': 523,\n",
              " 'starts': 524,\n",
              " 'gave': 525,\n",
              " 'run': 526,\n",
              " 'sometimes': 527,\n",
              " 'etc': 528,\n",
              " 'actress': 529,\n",
              " 'eyes': 530,\n",
              " 'late': 531,\n",
              " 'directed': 532,\n",
              " 'horrible': 533,\n",
              " 'parts': 534,\n",
              " 'brilliant': 535,\n",
              " 'wasn': 536,\n",
              " 'girls': 537,\n",
              " 'themselves': 538,\n",
              " 'hour': 539,\n",
              " 'self': 540,\n",
              " 'stories': 541,\n",
              " 'thinking': 542,\n",
              " 'expect': 543,\n",
              " 'city': 544,\n",
              " 'stuff': 545,\n",
              " 'kid': 546,\n",
              " 'god': 547,\n",
              " 'won': 548,\n",
              " 'blood': 549,\n",
              " 'obviously': 550,\n",
              " 'decent': 551,\n",
              " 'voice': 552,\n",
              " 'highly': 553,\n",
              " 'myself': 554,\n",
              " 'feeling': 555,\n",
              " 'fight': 556,\n",
              " 'today': 557,\n",
              " 'matter': 558,\n",
              " 'except': 559,\n",
              " 'writer': 560,\n",
              " \"wasn't\": 561,\n",
              " 'slow': 562,\n",
              " 'type': 563,\n",
              " \"he's\": 564,\n",
              " 'anyway': 565,\n",
              " 'roles': 566,\n",
              " 'age': 567,\n",
              " 'killed': 568,\n",
              " 'heard': 569,\n",
              " 'says': 570,\n",
              " 'moment': 571,\n",
              " 'daughter': 572,\n",
              " 'took': 573,\n",
              " 'leave': 574,\n",
              " 'strong': 575,\n",
              " 'cannot': 576,\n",
              " 'violence': 577,\n",
              " 's': 578,\n",
              " 'hit': 579,\n",
              " 'police': 580,\n",
              " 'stop': 581,\n",
              " 'happens': 582,\n",
              " 'particularly': 583,\n",
              " 'known': 584,\n",
              " 'happened': 585,\n",
              " 'involved': 586,\n",
              " 'brother': 587,\n",
              " 'obvious': 588,\n",
              " 'extremely': 589,\n",
              " 'chance': 590,\n",
              " 'told': 591,\n",
              " 'living': 592,\n",
              " 'experience': 593,\n",
              " 'lack': 594,\n",
              " 'coming': 595,\n",
              " 'alone': 596,\n",
              " 'james': 597,\n",
              " 'including': 598,\n",
              " 'murder': 599,\n",
              " 'attempt': 600,\n",
              " 'happen': 601,\n",
              " 'please': 602,\n",
              " 'wonder': 603,\n",
              " 'gore': 604,\n",
              " 'crap': 605,\n",
              " 'ago': 606,\n",
              " 'group': 607,\n",
              " 'complete': 608,\n",
              " 'none': 609,\n",
              " 'interest': 610,\n",
              " 'score': 611,\n",
              " 'cut': 612,\n",
              " 'simple': 613,\n",
              " 'hell': 614,\n",
              " 'save': 615,\n",
              " 'hero': 616,\n",
              " 'looked': 617,\n",
              " 'number': 618,\n",
              " 'song': 619,\n",
              " 'career': 620,\n",
              " 'husband': 621,\n",
              " 'possible': 622,\n",
              " 'annoying': 623,\n",
              " 'shown': 624,\n",
              " 'sad': 625,\n",
              " 'exactly': 626,\n",
              " 'seriously': 627,\n",
              " 'running': 628,\n",
              " 'musical': 629,\n",
              " 'serious': 630,\n",
              " 'yourself': 631,\n",
              " 'david': 632,\n",
              " 'whose': 633,\n",
              " 'taken': 634,\n",
              " 'cinematography': 635,\n",
              " 'released': 636,\n",
              " 'ends': 637,\n",
              " 'scary': 638,\n",
              " 'hours': 639,\n",
              " 'reality': 640,\n",
              " 'english': 641,\n",
              " 'usually': 642,\n",
              " 'light': 643,\n",
              " 'opening': 644,\n",
              " 'jokes': 645,\n",
              " 'across': 646,\n",
              " 'body': 647,\n",
              " 'hilarious': 648,\n",
              " 'somewhat': 649,\n",
              " 'relationship': 650,\n",
              " 'started': 651,\n",
              " 'usual': 652,\n",
              " 'view': 653,\n",
              " 'cool': 654,\n",
              " 'level': 655,\n",
              " 'ridiculous': 656,\n",
              " 'change': 657,\n",
              " 'opinion': 658,\n",
              " 'happy': 659,\n",
              " 'wish': 660,\n",
              " 'king': 661,\n",
              " 'middle': 662,\n",
              " 'novel': 663,\n",
              " 'taking': 664,\n",
              " 'ones': 665,\n",
              " 'talking': 666,\n",
              " 'ok': 667,\n",
              " 'finds': 668,\n",
              " 'order': 669,\n",
              " 'shots': 670,\n",
              " 'documentary': 671,\n",
              " 'saying': 672,\n",
              " 'female': 673,\n",
              " 'huge': 674,\n",
              " 'room': 675,\n",
              " 'mostly': 676,\n",
              " 'power': 677,\n",
              " 'episodes': 678,\n",
              " 'robert': 679,\n",
              " 'important': 680,\n",
              " 'talent': 681,\n",
              " 'rating': 682,\n",
              " 'word': 683,\n",
              " 'turned': 684,\n",
              " 'strange': 685,\n",
              " 'major': 686,\n",
              " 'five': 687,\n",
              " 'modern': 688,\n",
              " 'call': 689,\n",
              " 'single': 690,\n",
              " 'disappointed': 691,\n",
              " 'country': 692,\n",
              " 'apparently': 693,\n",
              " 'events': 694,\n",
              " 'due': 695,\n",
              " 'songs': 696,\n",
              " 'attention': 697,\n",
              " 'earth': 698,\n",
              " '7': 699,\n",
              " 'four': 700,\n",
              " 'television': 701,\n",
              " 'jack': 702,\n",
              " 'knows': 703,\n",
              " 'comic': 704,\n",
              " 'supporting': 705,\n",
              " 'basically': 706,\n",
              " 'non': 707,\n",
              " 'clearly': 708,\n",
              " 'knew': 709,\n",
              " 'british': 710,\n",
              " 'future': 711,\n",
              " 'fast': 712,\n",
              " '8': 713,\n",
              " 'class': 714,\n",
              " 'cheap': 715,\n",
              " 'thriller': 716,\n",
              " 'silly': 717,\n",
              " 'problems': 718,\n",
              " 'tells': 719,\n",
              " 'easily': 720,\n",
              " 'miss': 721,\n",
              " 'local': 722,\n",
              " 'paul': 723,\n",
              " 'words': 724,\n",
              " 'sequence': 725,\n",
              " 'entertainment': 726,\n",
              " 'bring': 727,\n",
              " 'beyond': 728,\n",
              " 'rock': 729,\n",
              " 'upon': 730,\n",
              " 'oscar': 731,\n",
              " 'straight': 732,\n",
              " 'whether': 733,\n",
              " 'sets': 734,\n",
              " 'moving': 735,\n",
              " 'predictable': 736,\n",
              " 'similar': 737,\n",
              " 'romantic': 738,\n",
              " 'review': 739,\n",
              " 'falls': 740,\n",
              " 'george': 741,\n",
              " 'mystery': 742,\n",
              " 'needs': 743,\n",
              " 'appears': 744,\n",
              " 'enjoyable': 745,\n",
              " 'eye': 746,\n",
              " 'giving': 747,\n",
              " 'clich': 748,\n",
              " 'talk': 749,\n",
              " 'lady': 750,\n",
              " 'within': 751,\n",
              " 'richard': 752,\n",
              " \"b'\": 753,\n",
              " 'ten': 754,\n",
              " 'animation': 755,\n",
              " 'message': 756,\n",
              " 'theater': 757,\n",
              " 'near': 758,\n",
              " 'couldn': 759,\n",
              " 'above': 760,\n",
              " 'theme': 761,\n",
              " 'team': 762,\n",
              " 'nearly': 763,\n",
              " 'sequel': 764,\n",
              " 'points': 765,\n",
              " 'dull': 766,\n",
              " 'stand': 767,\n",
              " \"you're\": 768,\n",
              " 'bunch': 769,\n",
              " 'mention': 770,\n",
              " 'herself': 771,\n",
              " 'add': 772,\n",
              " 'feels': 773,\n",
              " 'release': 774,\n",
              " \"b'the\": 775,\n",
              " 'storyline': 776,\n",
              " 'ways': 777,\n",
              " 'sister': 778,\n",
              " 'surprised': 779,\n",
              " 'red': 780,\n",
              " 'named': 781,\n",
              " 'using': 782,\n",
              " 'york': 783,\n",
              " 'lots': 784,\n",
              " 'fantastic': 785,\n",
              " 'easy': 786,\n",
              " 'begins': 787,\n",
              " 'actual': 788,\n",
              " 't': 789,\n",
              " 'working': 790,\n",
              " 'effort': 791,\n",
              " 'lee': 792,\n",
              " 'tale': 793,\n",
              " 'die': 794,\n",
              " 'minute': 795,\n",
              " 'hate': 796,\n",
              " 'clear': 797,\n",
              " 'french': 798,\n",
              " 'stay': 799,\n",
              " 'feature': 800,\n",
              " 'elements': 801,\n",
              " 'viewers': 802,\n",
              " 'among': 803,\n",
              " '9': 804,\n",
              " 'follow': 805,\n",
              " 're': 806,\n",
              " 'comments': 807,\n",
              " 'showing': 808,\n",
              " 'avoid': 809,\n",
              " 'editing': 810,\n",
              " 'tried': 811,\n",
              " 'typical': 812,\n",
              " 'famous': 813,\n",
              " 'fall': 814,\n",
              " 'dialog': 815,\n",
              " 'tom': 816,\n",
              " 'season': 817,\n",
              " 'period': 818,\n",
              " 'check': 819,\n",
              " 'form': 820,\n",
              " 'soundtrack': 821,\n",
              " 'certain': 822,\n",
              " 'filmed': 823,\n",
              " 'sorry': 824,\n",
              " 'means': 825,\n",
              " 'buy': 826,\n",
              " 'material': 827,\n",
              " 'peter': 828,\n",
              " 'weak': 829,\n",
              " 'realistic': 830,\n",
              " 'figure': 831,\n",
              " 'crime': 832,\n",
              " 'doubt': 833,\n",
              " 'somehow': 834,\n",
              " 'gone': 835,\n",
              " 'general': 836,\n",
              " 'kept': 837,\n",
              " 'parents': 838,\n",
              " 'leads': 839,\n",
              " 'viewing': 840,\n",
              " 'space': 841,\n",
              " 'greatest': 842,\n",
              " 'suspense': 843,\n",
              " 'dance': 844,\n",
              " 'lame': 845,\n",
              " 'third': 846,\n",
              " 'brought': 847,\n",
              " 'atmosphere': 848,\n",
              " 'hear': 849,\n",
              " 'particular': 850,\n",
              " 'imagine': 851,\n",
              " 'sequences': 852,\n",
              " 'move': 853,\n",
              " 'whatever': 854,\n",
              " 'indeed': 855,\n",
              " 'rent': 856,\n",
              " 'eventually': 857,\n",
              " 'learn': 858,\n",
              " 'de': 859,\n",
              " 'deal': 860,\n",
              " 'reviews': 861,\n",
              " 'zombie': 862,\n",
              " 'wait': 863,\n",
              " 'japanese': 864,\n",
              " 'average': 865,\n",
              " 'sexual': 866,\n",
              " 'note': 867,\n",
              " 'premise': 868,\n",
              " 'forget': 869,\n",
              " 'poorly': 870,\n",
              " 'surprise': 871,\n",
              " 'believable': 872,\n",
              " 'sit': 873,\n",
              " 'disney': 874,\n",
              " 'stage': 875,\n",
              " 'nature': 876,\n",
              " 'possibly': 877,\n",
              " 'decided': 878,\n",
              " 'subject': 879,\n",
              " 'expected': 880,\n",
              " 'became': 881,\n",
              " 'truth': 882,\n",
              " 'free': 883,\n",
              " 'screenplay': 884,\n",
              " 'america': 885,\n",
              " 'difficult': 886,\n",
              " 'killing': 887,\n",
              " 'xa9': 888,\n",
              " 'romance': 889,\n",
              " 'imdb': 890,\n",
              " '20': 891,\n",
              " 'nor': 892,\n",
              " 'dr': 893,\n",
              " 'question': 894,\n",
              " 'street': 895,\n",
              " 'leaves': 896,\n",
              " 'needed': 897,\n",
              " 'baby': 898,\n",
              " 'reading': 899,\n",
              " \"couldn't\": 900,\n",
              " 'hot': 901,\n",
              " 'begin': 902,\n",
              " 'meets': 903,\n",
              " 'dog': 904,\n",
              " 'directors': 905,\n",
              " 'credits': 906,\n",
              " 'unless': 907,\n",
              " 'joe': 908,\n",
              " 'write': 909,\n",
              " 'otherwise': 910,\n",
              " 'superb': 911,\n",
              " 'society': 912,\n",
              " 'shame': 913,\n",
              " 'okay': 914,\n",
              " 'situation': 915,\n",
              " 'dramatic': 916,\n",
              " 'memorable': 917,\n",
              " 'weird': 918,\n",
              " 'open': 919,\n",
              " 'badly': 920,\n",
              " 'earlier': 921,\n",
              " 'male': 922,\n",
              " 'meet': 923,\n",
              " 'acted': 924,\n",
              " 'forced': 925,\n",
              " 'emotional': 926,\n",
              " 'sci': 927,\n",
              " 'fi': 928,\n",
              " 'dream': 929,\n",
              " 'laughs': 930,\n",
              " 'writers': 931,\n",
              " 'older': 932,\n",
              " 'realize': 933,\n",
              " 'interested': 934,\n",
              " 'forward': 935,\n",
              " 'footage': 936,\n",
              " 'comment': 937,\n",
              " 'crazy': 938,\n",
              " 'beauty': 939,\n",
              " 'fantasy': 940,\n",
              " 'deep': 941,\n",
              " 'whom': 942,\n",
              " 'sounds': 943,\n",
              " 'plus': 944,\n",
              " 'monster': 945,\n",
              " 'directing': 946,\n",
              " 'keeps': 947,\n",
              " 'ask': 948,\n",
              " 'development': 949,\n",
              " 'features': 950,\n",
              " 'air': 951,\n",
              " 'mess': 952,\n",
              " 'quickly': 953,\n",
              " 'mark': 954,\n",
              " 'd': 955,\n",
              " 'creepy': 956,\n",
              " 'box': 957,\n",
              " 'perfectly': 958,\n",
              " 'towards': 959,\n",
              " 'worked': 960,\n",
              " 'setting': 961,\n",
              " 'result': 962,\n",
              " 'cheesy': 963,\n",
              " 'unique': 964,\n",
              " 'e': 965,\n",
              " 'brings': 966,\n",
              " 'plenty': 967,\n",
              " 'hands': 968,\n",
              " 'effect': 969,\n",
              " 'total': 970,\n",
              " 'previous': 971,\n",
              " 'jane': 972,\n",
              " 'girlfriend': 973,\n",
              " 'fire': 974,\n",
              " 'personal': 975,\n",
              " 'rate': 976,\n",
              " 'bill': 977,\n",
              " 'incredibly': 978,\n",
              " 'business': 979,\n",
              " 'leading': 980,\n",
              " 'joke': 981,\n",
              " 'admit': 982,\n",
              " 'casting': 983,\n",
              " 'appear': 984,\n",
              " 'background': 985,\n",
              " 'powerful': 986,\n",
              " 'apart': 987,\n",
              " 'present': 988,\n",
              " 'telling': 989,\n",
              " 'christmas': 990,\n",
              " 'meant': 991,\n",
              " 'potential': 992,\n",
              " 'battle': 993,\n",
              " 'create': 994,\n",
              " 'break': 995,\n",
              " 'hardly': 996,\n",
              " 'return': 997,\n",
              " 'era': 998,\n",
              " \"you'll\": 999,\n",
              " 'masterpiece': 1000,\n",
              " ...}"
            ]
          },
          "metadata": {},
          "execution_count": 53
        }
      ]
    },
    {
      "cell_type": "code",
      "source": [
        "sequences = tokenizer.texts_to_sequences(training_sentences)\n",
        "padded = pad_sequences(sequences,maxlen=500,truncating='post')\n",
        "testing_sequences = tokenizer.texts_to_sequences(testing_sentences)\n",
        "testing_padded = pad_sequences(testing_sequences,maxlen=500,truncating='post',padding='pre')"
      ],
      "metadata": {
        "id": "zz0W7CQ00ilg"
      },
      "execution_count": null,
      "outputs": []
    },
    {
      "cell_type": "code",
      "source": [
        "padded"
      ],
      "metadata": {
        "colab": {
          "base_uri": "https://localhost:8080/"
        },
        "id": "GDarDzr2f0TK",
        "outputId": "88ae70ee-5ae0-4ff9-f0d6-f121d6f3e6f2"
      },
      "execution_count": null,
      "outputs": [
        {
          "output_type": "execute_result",
          "data": {
            "text/plain": [
              "array([[   0,    0,    0, ...,  873,  144,    9],\n",
              "       [   0,    0,    0, ...,   31,   30,   46],\n",
              "       [   0,    0,    0, ...,    8, 6175,   46],\n",
              "       ...,\n",
              "       [7628,   36,   10, ...,   20,   83,    1],\n",
              "       [   0,    0,    0, ..., 1320,   22,   46],\n",
              "       [   0,    0,    0, ..., 1697,  661,   46]], dtype=int32)"
            ]
          },
          "metadata": {},
          "execution_count": 55
        }
      ]
    },
    {
      "cell_type": "code",
      "source": [
        "padded.shape"
      ],
      "metadata": {
        "colab": {
          "base_uri": "https://localhost:8080/"
        },
        "id": "1Y-KE5i41RFk",
        "outputId": "a1f266aa-cf31-4442-d12a-f9d29b9a8156"
      },
      "execution_count": null,
      "outputs": [
        {
          "output_type": "execute_result",
          "data": {
            "text/plain": [
              "(25000, 500)"
            ]
          },
          "metadata": {},
          "execution_count": 56
        }
      ]
    },
    {
      "cell_type": "markdown",
      "source": [
        "### Import the libraries"
      ],
      "metadata": {
        "id": "qjOs-cKf2CjS"
      }
    },
    {
      "cell_type": "code",
      "source": [
        "from keras.layers import Embedding, SimpleRNN, Bidirectional, LSTM, GRU,Dense\n",
        "from keras.models import Sequential"
      ],
      "metadata": {
        "id": "vT4tqtaQ1m-7"
      },
      "execution_count": null,
      "outputs": []
    },
    {
      "cell_type": "markdown",
      "source": [
        "### Build simple RNN model"
      ],
      "metadata": {
        "id": "zQbuZ5d12U7V"
      }
    },
    {
      "cell_type": "code",
      "source": [
        "model_rnn = Sequential([\n",
        "    Input(shape=(50,)), # Explicitly define input shape for Embedding layer\n",
        "    Embedding(input_dim=10000, output_dim=128, input_length=50),  # Define input shape explicitly\n",
        "    SimpleRNN(32),\n",
        "    Dense(10, activation='relu'),\n",
        "    Dense(1, activation='sigmoid')\n",
        "])"
      ],
      "metadata": {
        "id": "ogt8OvUm2Op8"
      },
      "execution_count": null,
      "outputs": []
    },
    {
      "cell_type": "code",
      "source": [
        "model_rnn.summary()"
      ],
      "metadata": {
        "colab": {
          "base_uri": "https://localhost:8080/",
          "height": 264
        },
        "id": "7STMAMe_GrJW",
        "outputId": "3265f1f4-6f9d-4bab-aed8-8329f97daed2"
      },
      "execution_count": null,
      "outputs": [
        {
          "output_type": "display_data",
          "data": {
            "text/plain": [
              "\u001b[1mModel: \"sequential_8\"\u001b[0m\n"
            ],
            "text/html": [
              "<pre style=\"white-space:pre;overflow-x:auto;line-height:normal;font-family:Menlo,'DejaVu Sans Mono',consolas,'Courier New',monospace\"><span style=\"font-weight: bold\">Model: \"sequential_8\"</span>\n",
              "</pre>\n"
            ]
          },
          "metadata": {}
        },
        {
          "output_type": "display_data",
          "data": {
            "text/plain": [
              "┏━━━━━━━━━━━━━━━━━━━━━━━━━━━━━━━━━━━━━━┳━━━━━━━━━━━━━━━━━━━━━━━━━━━━━┳━━━━━━━━━━━━━━━━━┓\n",
              "┃\u001b[1m \u001b[0m\u001b[1mLayer (type)                        \u001b[0m\u001b[1m \u001b[0m┃\u001b[1m \u001b[0m\u001b[1mOutput Shape               \u001b[0m\u001b[1m \u001b[0m┃\u001b[1m \u001b[0m\u001b[1m        Param #\u001b[0m\u001b[1m \u001b[0m┃\n",
              "┡━━━━━━━━━━━━━━━━━━━━━━━━━━━━━━━━━━━━━━╇━━━━━━━━━━━━━━━━━━━━━━━━━━━━━╇━━━━━━━━━━━━━━━━━┩\n",
              "│ embedding_8 (\u001b[38;5;33mEmbedding\u001b[0m)              │ (\u001b[38;5;45mNone\u001b[0m, \u001b[38;5;34m50\u001b[0m, \u001b[38;5;34m128\u001b[0m)             │       \u001b[38;5;34m1,280,000\u001b[0m │\n",
              "├──────────────────────────────────────┼─────────────────────────────┼─────────────────┤\n",
              "│ simple_rnn_8 (\u001b[38;5;33mSimpleRNN\u001b[0m)             │ (\u001b[38;5;45mNone\u001b[0m, \u001b[38;5;34m32\u001b[0m)                  │           \u001b[38;5;34m5,152\u001b[0m │\n",
              "├──────────────────────────────────────┼─────────────────────────────┼─────────────────┤\n",
              "│ dense_16 (\u001b[38;5;33mDense\u001b[0m)                     │ (\u001b[38;5;45mNone\u001b[0m, \u001b[38;5;34m10\u001b[0m)                  │             \u001b[38;5;34m330\u001b[0m │\n",
              "├──────────────────────────────────────┼─────────────────────────────┼─────────────────┤\n",
              "│ dense_17 (\u001b[38;5;33mDense\u001b[0m)                     │ (\u001b[38;5;45mNone\u001b[0m, \u001b[38;5;34m1\u001b[0m)                   │              \u001b[38;5;34m11\u001b[0m │\n",
              "└──────────────────────────────────────┴─────────────────────────────┴─────────────────┘\n"
            ],
            "text/html": [
              "<pre style=\"white-space:pre;overflow-x:auto;line-height:normal;font-family:Menlo,'DejaVu Sans Mono',consolas,'Courier New',monospace\">┏━━━━━━━━━━━━━━━━━━━━━━━━━━━━━━━━━━━━━━┳━━━━━━━━━━━━━━━━━━━━━━━━━━━━━┳━━━━━━━━━━━━━━━━━┓\n",
              "┃<span style=\"font-weight: bold\"> Layer (type)                         </span>┃<span style=\"font-weight: bold\"> Output Shape                </span>┃<span style=\"font-weight: bold\">         Param # </span>┃\n",
              "┡━━━━━━━━━━━━━━━━━━━━━━━━━━━━━━━━━━━━━━╇━━━━━━━━━━━━━━━━━━━━━━━━━━━━━╇━━━━━━━━━━━━━━━━━┩\n",
              "│ embedding_8 (<span style=\"color: #0087ff; text-decoration-color: #0087ff\">Embedding</span>)              │ (<span style=\"color: #00d7ff; text-decoration-color: #00d7ff\">None</span>, <span style=\"color: #00af00; text-decoration-color: #00af00\">50</span>, <span style=\"color: #00af00; text-decoration-color: #00af00\">128</span>)             │       <span style=\"color: #00af00; text-decoration-color: #00af00\">1,280,000</span> │\n",
              "├──────────────────────────────────────┼─────────────────────────────┼─────────────────┤\n",
              "│ simple_rnn_8 (<span style=\"color: #0087ff; text-decoration-color: #0087ff\">SimpleRNN</span>)             │ (<span style=\"color: #00d7ff; text-decoration-color: #00d7ff\">None</span>, <span style=\"color: #00af00; text-decoration-color: #00af00\">32</span>)                  │           <span style=\"color: #00af00; text-decoration-color: #00af00\">5,152</span> │\n",
              "├──────────────────────────────────────┼─────────────────────────────┼─────────────────┤\n",
              "│ dense_16 (<span style=\"color: #0087ff; text-decoration-color: #0087ff\">Dense</span>)                     │ (<span style=\"color: #00d7ff; text-decoration-color: #00d7ff\">None</span>, <span style=\"color: #00af00; text-decoration-color: #00af00\">10</span>)                  │             <span style=\"color: #00af00; text-decoration-color: #00af00\">330</span> │\n",
              "├──────────────────────────────────────┼─────────────────────────────┼─────────────────┤\n",
              "│ dense_17 (<span style=\"color: #0087ff; text-decoration-color: #0087ff\">Dense</span>)                     │ (<span style=\"color: #00d7ff; text-decoration-color: #00d7ff\">None</span>, <span style=\"color: #00af00; text-decoration-color: #00af00\">1</span>)                   │              <span style=\"color: #00af00; text-decoration-color: #00af00\">11</span> │\n",
              "└──────────────────────────────────────┴─────────────────────────────┴─────────────────┘\n",
              "</pre>\n"
            ]
          },
          "metadata": {}
        },
        {
          "output_type": "display_data",
          "data": {
            "text/plain": [
              "\u001b[1m Total params: \u001b[0m\u001b[38;5;34m1,285,493\u001b[0m (4.90 MB)\n"
            ],
            "text/html": [
              "<pre style=\"white-space:pre;overflow-x:auto;line-height:normal;font-family:Menlo,'DejaVu Sans Mono',consolas,'Courier New',monospace\"><span style=\"font-weight: bold\"> Total params: </span><span style=\"color: #00af00; text-decoration-color: #00af00\">1,285,493</span> (4.90 MB)\n",
              "</pre>\n"
            ]
          },
          "metadata": {}
        },
        {
          "output_type": "display_data",
          "data": {
            "text/plain": [
              "\u001b[1m Trainable params: \u001b[0m\u001b[38;5;34m1,285,493\u001b[0m (4.90 MB)\n"
            ],
            "text/html": [
              "<pre style=\"white-space:pre;overflow-x:auto;line-height:normal;font-family:Menlo,'DejaVu Sans Mono',consolas,'Courier New',monospace\"><span style=\"font-weight: bold\"> Trainable params: </span><span style=\"color: #00af00; text-decoration-color: #00af00\">1,285,493</span> (4.90 MB)\n",
              "</pre>\n"
            ]
          },
          "metadata": {}
        },
        {
          "output_type": "display_data",
          "data": {
            "text/plain": [
              "\u001b[1m Non-trainable params: \u001b[0m\u001b[38;5;34m0\u001b[0m (0.00 B)\n"
            ],
            "text/html": [
              "<pre style=\"white-space:pre;overflow-x:auto;line-height:normal;font-family:Menlo,'DejaVu Sans Mono',consolas,'Courier New',monospace\"><span style=\"font-weight: bold\"> Non-trainable params: </span><span style=\"color: #00af00; text-decoration-color: #00af00\">0</span> (0.00 B)\n",
              "</pre>\n"
            ]
          },
          "metadata": {}
        }
      ]
    },
    {
      "cell_type": "code",
      "source": [
        "model_rnn.compile(loss='binary_crossentropy',optimizer='adam',metrics=['accuracy'])"
      ],
      "metadata": {
        "id": "i6S5YIzyGvEw"
      },
      "execution_count": null,
      "outputs": []
    },
    {
      "cell_type": "code",
      "source": [
        "history = model_rnn.fit(padded, training_labels, epochs=10, validation_data=(testing_padded, testing_labels))"
      ],
      "metadata": {
        "colab": {
          "base_uri": "https://localhost:8080/"
        },
        "id": "l-6vsmIYHIvK",
        "outputId": "1976f2f3-e166-46bf-aebb-2546021daa1b"
      },
      "execution_count": null,
      "outputs": [
        {
          "output_type": "stream",
          "name": "stdout",
          "text": [
            "Epoch 1/10\n",
            "\u001b[1m782/782\u001b[0m \u001b[32m━━━━━━━━━━━━━━━━━━━━\u001b[0m\u001b[37m\u001b[0m \u001b[1m140s\u001b[0m 176ms/step - accuracy: 0.6169 - loss: 0.6357 - val_accuracy: 0.7488 - val_loss: 0.5319\n",
            "Epoch 2/10\n",
            "\u001b[1m782/782\u001b[0m \u001b[32m━━━━━━━━━━━━━━━━━━━━\u001b[0m\u001b[37m\u001b[0m \u001b[1m160s\u001b[0m 200ms/step - accuracy: 0.7810 - loss: 0.4728 - val_accuracy: 0.7824 - val_loss: 0.4800\n",
            "Epoch 3/10\n",
            "\u001b[1m782/782\u001b[0m \u001b[32m━━━━━━━━━━━━━━━━━━━━\u001b[0m\u001b[37m\u001b[0m \u001b[1m182s\u001b[0m 175ms/step - accuracy: 0.8520 - loss: 0.3523 - val_accuracy: 0.8080 - val_loss: 0.4795\n",
            "Epoch 4/10\n",
            "\u001b[1m782/782\u001b[0m \u001b[32m━━━━━━━━━━━━━━━━━━━━\u001b[0m\u001b[37m\u001b[0m \u001b[1m146s\u001b[0m 180ms/step - accuracy: 0.9380 - loss: 0.1724 - val_accuracy: 0.7852 - val_loss: 0.5492\n",
            "Epoch 5/10\n",
            "\u001b[1m782/782\u001b[0m \u001b[32m━━━━━━━━━━━━━━━━━━━━\u001b[0m\u001b[37m\u001b[0m \u001b[1m139s\u001b[0m 177ms/step - accuracy: 0.9556 - loss: 0.1257 - val_accuracy: 0.7771 - val_loss: 0.9204\n",
            "Epoch 6/10\n",
            "\u001b[1m782/782\u001b[0m \u001b[32m━━━━━━━━━━━━━━━━━━━━\u001b[0m\u001b[37m\u001b[0m \u001b[1m142s\u001b[0m 177ms/step - accuracy: 0.9037 - loss: 0.2537 - val_accuracy: 0.7454 - val_loss: 0.8356\n",
            "Epoch 7/10\n",
            "\u001b[1m782/782\u001b[0m \u001b[32m━━━━━━━━━━━━━━━━━━━━\u001b[0m\u001b[37m\u001b[0m \u001b[1m138s\u001b[0m 176ms/step - accuracy: 0.9873 - loss: 0.0406 - val_accuracy: 0.7776 - val_loss: 0.8823\n",
            "Epoch 8/10\n",
            "\u001b[1m782/782\u001b[0m \u001b[32m━━━━━━━━━━━━━━━━━━━━\u001b[0m\u001b[37m\u001b[0m \u001b[1m142s\u001b[0m 176ms/step - accuracy: 0.9934 - loss: 0.0225 - val_accuracy: 0.7893 - val_loss: 0.9527\n",
            "Epoch 9/10\n",
            "\u001b[1m782/782\u001b[0m \u001b[32m━━━━━━━━━━━━━━━━━━━━\u001b[0m\u001b[37m\u001b[0m \u001b[1m141s\u001b[0m 176ms/step - accuracy: 0.9903 - loss: 0.0319 - val_accuracy: 0.7671 - val_loss: 1.0467\n",
            "Epoch 10/10\n",
            "\u001b[1m782/782\u001b[0m \u001b[32m━━━━━━━━━━━━━━━━━━━━\u001b[0m\u001b[37m\u001b[0m \u001b[1m137s\u001b[0m 175ms/step - accuracy: 0.9925 - loss: 0.0220 - val_accuracy: 0.7984 - val_loss: 1.0150\n"
          ]
        }
      ]
    },
    {
      "cell_type": "code",
      "source": [
        "import matplotlib.pyplot as plt\n",
        "plt.title('Simple RNN')\n",
        "plt.xlabel('Epochs')\n",
        "plt.grid()\n",
        "plt.plot(range(1,11),history.history['loss'],\n",
        "         color='r',label='Loss',marker='.')\n",
        "plt.plot(range(1,11),history.history['accuracy'],\n",
        "         color='g',label='Accuracy',marker='.')\n",
        "plt.plot(range(1,11),history.history['val_loss'],\n",
        "         color='b',label='Validation Loss',marker='.')\n",
        "plt.plot(range(1,11),history.history['val_accuracy'],\n",
        "         color='y',label='Validation Accuracy',marker='.')\n",
        "plt.legend(loc='upper left')\n",
        "plt.show()"
      ],
      "metadata": {
        "colab": {
          "base_uri": "https://localhost:8080/",
          "height": 472
        },
        "id": "hshJmlvkKOfW",
        "outputId": "45c52ce6-c504-4182-eda9-3a68c1c9b333"
      },
      "execution_count": null,
      "outputs": [
        {
          "output_type": "display_data",
          "data": {
            "text/plain": [
              "<Figure size 640x480 with 1 Axes>"
            ],
            "image/png": "[encoded data removed]"
          },
          "metadata": {}
        }
      ]
    },
    {
      "cell_type": "markdown",
      "source": [
        "### Build LSTM Model"
      ],
      "metadata": {
        "id": "uDyhmxH_Mk0Z"
      }
    },
    {
      "cell_type": "code",
      "source": [
        "model_lstm = Sequential([\n",
        "    Embedding(10000, 50, input_length=50),\n",
        "    Bidirectional(LSTM(32)),\n",
        "    Dense(10, activation='relu'),\n",
        "    Dense(1,activation='sigmoid')\n",
        "])"
      ],
      "metadata": {
        "id": "m14aSUsZMpj5"
      },
      "execution_count": null,
      "outputs": []
    },
    {
      "cell_type": "code",
      "source": [
        "model_lstm.compile(loss='binary_crossentropy', optimizer='adam', metrics=['accuracy'])"
      ],
      "metadata": {
        "id": "TH5NN6yANMkd"
      },
      "execution_count": null,
      "outputs": []
    },
    {
      "cell_type": "code",
      "source": [
        "history_lstm = model_lstm.fit(padded, training_labels, epochs=10, validation_data=(testing_padded, testing_labels))"
      ],
      "metadata": {
        "colab": {
          "base_uri": "https://localhost:8080/"
        },
        "id": "Su_wsdJ1NXeD",
        "outputId": "e724cc0d-2228-428f-c6ca-ceec464c9631"
      },
      "execution_count": null,
      "outputs": [
        {
          "output_type": "stream",
          "name": "stdout",
          "text": [
            "Epoch 1/10\n",
            "\u001b[1m782/782\u001b[0m \u001b[32m━━━━━━━━━━━━━━━━━━━━\u001b[0m\u001b[37m\u001b[0m \u001b[1m384s\u001b[0m 485ms/step - accuracy: 0.7229 - loss: 0.5146 - val_accuracy: 0.8576 - val_loss: 0.3371\n",
            "Epoch 2/10\n",
            "\u001b[1m782/782\u001b[0m \u001b[32m━━━━━━━━━━━━━━━━━━━━\u001b[0m\u001b[37m\u001b[0m \u001b[1m352s\u001b[0m 447ms/step - accuracy: 0.8562 - loss: 0.3403 - val_accuracy: 0.8623 - val_loss: 0.3586\n",
            "Epoch 3/10\n",
            "\u001b[1m782/782\u001b[0m \u001b[32m━━━━━━━━━━━━━━━━━━━━\u001b[0m\u001b[37m\u001b[0m \u001b[1m381s\u001b[0m 487ms/step - accuracy: 0.9155 - loss: 0.2227 - val_accuracy: 0.8592 - val_loss: 0.3317\n",
            "Epoch 4/10\n",
            "\u001b[1m782/782\u001b[0m \u001b[32m━━━━━━━━━━━━━━━━━━━━\u001b[0m\u001b[37m\u001b[0m \u001b[1m358s\u001b[0m 457ms/step - accuracy: 0.9468 - loss: 0.1503 - val_accuracy: 0.8692 - val_loss: 0.3821\n",
            "Epoch 5/10\n",
            "\u001b[1m782/782\u001b[0m \u001b[32m━━━━━━━━━━━━━━━━━━━━\u001b[0m\u001b[37m\u001b[0m \u001b[1m379s\u001b[0m 453ms/step - accuracy: 0.9601 - loss: 0.1207 - val_accuracy: 0.8584 - val_loss: 0.3776\n",
            "Epoch 6/10\n",
            "\u001b[1m782/782\u001b[0m \u001b[32m━━━━━━━━━━━━━━━━━━━━\u001b[0m\u001b[37m\u001b[0m \u001b[1m353s\u001b[0m 451ms/step - accuracy: 0.9655 - loss: 0.1029 - val_accuracy: 0.8666 - val_loss: 0.4600\n",
            "Epoch 7/10\n",
            "\u001b[1m782/782\u001b[0m \u001b[32m━━━━━━━━━━━━━━━━━━━━\u001b[0m\u001b[37m\u001b[0m \u001b[1m384s\u001b[0m 453ms/step - accuracy: 0.9789 - loss: 0.0669 - val_accuracy: 0.8606 - val_loss: 0.4552\n",
            "Epoch 8/10\n",
            "\u001b[1m782/782\u001b[0m \u001b[32m━━━━━━━━━━━━━━━━━━━━\u001b[0m\u001b[37m\u001b[0m \u001b[1m381s\u001b[0m 453ms/step - accuracy: 0.9829 - loss: 0.0549 - val_accuracy: 0.8572 - val_loss: 0.4644\n",
            "Epoch 9/10\n",
            "\u001b[1m782/782\u001b[0m \u001b[32m━━━━━━━━━━━━━━━━━━━━\u001b[0m\u001b[37m\u001b[0m \u001b[1m381s\u001b[0m 451ms/step - accuracy: 0.9831 - loss: 0.0520 - val_accuracy: 0.8581 - val_loss: 0.5176\n",
            "Epoch 10/10\n",
            "\u001b[1m782/782\u001b[0m \u001b[32m━━━━━━━━━━━━━━━━━━━━\u001b[0m\u001b[37m\u001b[0m \u001b[1m354s\u001b[0m 452ms/step - accuracy: 0.9892 - loss: 0.0345 - val_accuracy: 0.8561 - val_loss: 0.5666\n"
          ]
        }
      ]
    },
    {
      "cell_type": "code",
      "source": [
        "plt.title('LSTM Model')\n",
        "plt.xlabel('Epochs')\n",
        "plt.grid()\n",
        "plt.plot(range(1,11),history_lstm.history['loss'],\n",
        "         color='r',label='Loss',marker='.')\n",
        "plt.plot(range(1,11),history_lstm.history['accuracy'],\n",
        "         color='g',label='Accuracy',marker='.')\n",
        "plt.plot(range(1,11),history_lstm.history['val_loss'],\n",
        "         color='b',label='Validation Loss',marker='.')\n",
        "plt.plot(range(1,11),history_lstm.history['val_accuracy'],\n",
        "         color='y',label='Validation Accuracy',marker='.')\n",
        "plt.legend(loc='upper left')\n",
        "plt.show()"
      ],
      "metadata": {
        "colab": {
          "base_uri": "https://localhost:8080/",
          "height": 218
        },
        "id": "ukDlMCooNzih",
        "outputId": "b92cdf48-2ddd-47a1-f099-6c603f2880c5"
      },
      "execution_count": null,
      "outputs": [
        {
          "output_type": "error",
          "ename": "NameError",
          "evalue": "name 'plt' is not defined",
          "traceback": [
            "\u001b[0;31m---------------------------------------------------------------------------\u001b[0m",
            "\u001b[0;31mNameError\u001b[0m                                 Traceback (most recent call last)",
            "\u001b[0;32m<ipython-input-80-62e4b8f557aa>\u001b[0m in \u001b[0;36m<cell line: 1>\u001b[0;34m()\u001b[0m\n\u001b[0;32m----> 1\u001b[0;31m \u001b[0mplt\u001b[0m\u001b[0;34m.\u001b[0m\u001b[0mtitle\u001b[0m\u001b[0;34m(\u001b[0m\u001b[0;34m'LSTM Model'\u001b[0m\u001b[0;34m)\u001b[0m\u001b[0;34m\u001b[0m\u001b[0;34m\u001b[0m\u001b[0m\n\u001b[0m\u001b[1;32m      2\u001b[0m \u001b[0mplt\u001b[0m\u001b[0;34m.\u001b[0m\u001b[0mxlabel\u001b[0m\u001b[0;34m(\u001b[0m\u001b[0;34m'Epochs'\u001b[0m\u001b[0;34m)\u001b[0m\u001b[0;34m\u001b[0m\u001b[0;34m\u001b[0m\u001b[0m\n\u001b[1;32m      3\u001b[0m \u001b[0mplt\u001b[0m\u001b[0;34m.\u001b[0m\u001b[0mgrid\u001b[0m\u001b[0;34m(\u001b[0m\u001b[0;34m)\u001b[0m\u001b[0;34m\u001b[0m\u001b[0;34m\u001b[0m\u001b[0m\n\u001b[1;32m      4\u001b[0m plt.plot(range(1,11),history_lstm.history['loss'],\n\u001b[1;32m      5\u001b[0m          color='r',label='Loss',marker='.')\n",
            "\u001b[0;31mNameError\u001b[0m: name 'plt' is not defined"
          ]
        }
      ]
    },
    {
      "cell_type": "markdown",
      "source": [
        "### GRU Model"
      ],
      "metadata": {
        "id": "aOwUCKdAPwIl"
      }
    },
    {
      "cell_type": "code",
      "source": [
        "model_gru = Sequential([\n",
        "    Embedding(10000, 50, input_length=50),\n",
        "    Bidirectional(GRU(32)),\n",
        "    Dense(10, activation='relu'),\n",
        "    Dense(1,activation='sigmoid')\n",
        "])"
      ],
      "metadata": {
        "id": "keJZpV2NPm0M"
      },
      "execution_count": null,
      "outputs": []
    },
    {
      "cell_type": "code",
      "source": [
        "model_gru.compile(loss='binary_crossentropy', optimizer='adam', metrics=['accuracy'])"
      ],
      "metadata": {
        "id": "048grkRrP4Rq"
      },
      "execution_count": null,
      "outputs": []
    },
    {
      "cell_type": "code",
      "source": [
        "history_gru = model_gru.fit(padded, training_labels, epochs=10, validation_data=(testing_padded, testing_labels))"
      ],
      "metadata": {
        "id": "VUkfTOpbP9da"
      },
      "execution_count": null,
      "outputs": []
    },
    {
      "cell_type": "code",
      "source": [
        "plt.title('GRU Model')\n",
        "plt.xlabel('Epochs')\n",
        "plt.grid()\n",
        "plt.plot(range(1,11),history_gru.history['loss'],\n",
        "         color='r',label='Loss',marker='.')\n",
        "plt.plot(range(1,11),history_gru.history['accuracy'],\n",
        "         color='g',label='Accuracy',marker='.')\n",
        "plt.plot(range(1,11),history_gru.history['val_loss'],\n",
        "         color='b',label='Validation Loss',marker='.')\n",
        "plt.plot(range(1,11),history_gru.history['val_accuracy'],\n",
        "         color='y',label='Validation Accuracy',marker='.')\n",
        "plt.legend(loc='upper left')\n",
        "plt.show()"
      ],
      "metadata": {
        "id": "gZJ0Fz7jQEH6"
      },
      "execution_count": null,
      "outputs": []
    },
    {
      "cell_type": "markdown",
      "source": [
        "### Plot all the graphs together"
      ],
      "metadata": {
        "id": "nZXHke1pWjR6"
      }
    },
    {
      "cell_type": "code",
      "source": [
        "plt.subplot(2,2,1)\n",
        "plt.title('Simple RNN')\n",
        "plt.xlabel('Epochs')\n",
        "plt.grid()\n",
        "plt.plot(range(1,11),history.history['loss'],\n",
        "         color='r',label='Loss',marker='.')\n",
        "plt.plot(range(1,11),history.history['accuracy'],\n",
        "         color='g',label='Accuracy',marker='.')\n",
        "plt.plot(range(1,11),history.history['val_loss'],\n",
        "         color='b',label='Validation Loss',marker='.')\n",
        "plt.plot(range(1,11),history.history['val_accuracy'],\n",
        "         color='y',label='Validation Accuracy',marker='.')\n",
        "plt.legend(loc='upper left')\n",
        "\n",
        "\n",
        "\n",
        "plt.subplot(2,2,2)\n",
        "plt.title('LSTM Model')\n",
        "plt.xlabel('Epochs')\n",
        "plt.grid()\n",
        "plt.plot(range(1,11),history_lstm.history['loss'],\n",
        "         color='r',label='Loss',marker='.')\n",
        "plt.plot(range(1,11),history_lstm.history['accuracy'],\n",
        "         color='g',label='Accuracy',marker='.')\n",
        "plt.plot(range(1,11),history_lstm.history['val_loss'],\n",
        "         color='b',label='Validation Loss',marker='.')\n",
        "plt.plot(range(1,11),history_lstm.history['val_accuracy'],\n",
        "         color='y',label='Validation Accuracy',marker='.')\n",
        "plt.legend(loc='upper left')\n",
        "\n",
        "plt.subplot( 2,2,3)\n",
        "plt.title('GRU Model')\n",
        "plt.xlabel('Epochs')\n",
        "plt.grid()\n",
        "plt.plot(range(1,11),history_gru.history['loss'],\n",
        "         color='r',label='Loss',marker='.')\n",
        "plt.plot(range(1,11),history_gru.history['accuracy'],\n",
        "         color='g',label='Accuracy',marker='.')\n",
        "plt.plot(range(1,11),history_gru.history['val_loss'],\n",
        "         color='b',label='Validation Loss',marker='.')\n",
        "plt.plot(range(1,11),history_gru.history['val_accuracy'],\n",
        "         color='y',label='Validation Accuracy',marker='.')\n",
        "plt.legend(loc='upper left')\n",
        "\n",
        "plt.subplot(2,2,2)\n",
        "plt"
      ],
      "metadata": {
        "id": "Dg_6b11pSGoG"
      },
      "execution_count": null,
      "outputs": []
    },
    {
      "cell_type": "code",
      "source": [
        "new1 = 'This was a worst movie. Please do not watch it. Waste of money and time.'\n",
        "new2 = 'A must watch movie. I loved to watch it. It was just amazing.'"
      ],
      "metadata": {
        "id": "D0OtZz-3WsCk"
      },
      "execution_count": null,
      "outputs": []
    },
    {
      "cell_type": "code",
      "source": [
        "plt.figure(figsize=(10,5))\n",
        "\n",
        "plt.subplot(1,4,1)\n",
        "plt.plot(range(1,11),history.history['loss'],color='r',label='Loss',marker='.')\n",
        "plt.plot(range(1,11),history_lstm.history['loss'],color='b',label='Loss',marker='.')\n",
        "plt.plot(range(1,11),history_gru.history['loss'],color='g',label='Loss',marker='.')\n",
        "\n",
        "plt.subplot(1,4,2)\n",
        "plt.plot(range(1,11),history.history['accuracy'],color='r',label='Accuracy',marker='.')\n",
        "plt.plot(range(1,11),history_lstm.history['accuracy'],color='g',label='Accuracy',marker='.')\n",
        "plt.plot(range(1,11),history_gru.history['accuracy'],color='b',label='Accuracy',marker='.')\n",
        "\n",
        "\n",
        "plt.subplot(1,4,3)\n",
        "plt.plot(range(1,11),history.history['val_loss'],color='r',label='Validation Loss',marker='.')\n",
        "plt.plot(range(1,11),history_lstm.history['val_loss'],color='g',label='Validation Loss',marker='.')\n",
        "plt.plot(range(1,11),history_gru.history['val_loss'], color='b',label='Validation Loss',marker='.')\n",
        "\n",
        "\n",
        "\n",
        "plt.subplot(1,4,4)\n",
        "plt.plot(range(1,11),history.history['val_accuracy'],color='r',label='Validation Accuracy',marker='.')\n",
        "plt.plot(range(1,11),history_lstm.history['val_accuracy'],color='g',label='Validation Accuracy',marker='.')\n",
        "plt.plot(range(1,11),history_gru.history['val_accuracy'],color='b',label='Validation Accuracy',marker='.')\n"
      ],
      "metadata": {
        "id": "fI3lhr7hZVR3"
      },
      "execution_count": null,
      "outputs": []
    },
    {
      "cell_type": "code",
      "source": [
        "def predict(model,text):\n",
        "    seq = tokenizer.texts_to_sequences([text])\n",
        "    pad = pad_sequences(seq, maxlen=100, truncating= 'post')\n",
        "\n",
        "    result = model.predict(pad, verbose = False)\n",
        "    percent_pos= result[0,0]\n",
        "    if round(percent_pos) == 0:\n",
        "        return(1-percent_pos, 'NEGATIVE')\n",
        "    else:\n",
        "        return (percent_pos, 'POSITIVE')"
      ],
      "metadata": {
        "id": "snkNXr8fZiFI"
      },
      "execution_count": null,
      "outputs": []
    },
    {
      "cell_type": "code",
      "source": [
        "predict(model_rnn,new1)"
      ],
      "metadata": {
        "id": "IAr32U0mbh53"
      },
      "execution_count": null,
      "outputs": []
    },
    {
      "cell_type": "code",
      "source": [],
      "metadata": {
        "id": "WJoDURFUcBpE"
      },
      "execution_count": null,
      "outputs": []
    }
  ]
}