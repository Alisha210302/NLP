{
 "cells": [
  {
   "cell_type": "code",
   "execution_count": 2,
   "id": "944921f5-5929-4d8e-9b41-074f062d4393",
   "metadata": {},
   "outputs": [
    {
     "name": "stdout",
     "output_type": "stream",
     "text": [
      "Collecting language_tool_python\n",
      "  Downloading language_tool_python-2.8.1-py3-none-any.whl.metadata (12 kB)\n",
      "Requirement already satisfied: pip in c:\\users\\dai.studentsdc\\appdata\\local\\anaconda3\\lib\\site-packages (from language_tool_python) (24.0)\n",
      "Requirement already satisfied: requests in c:\\users\\dai.studentsdc\\appdata\\local\\anaconda3\\lib\\site-packages (from language_tool_python) (2.32.2)\n",
      "Requirement already satisfied: tqdm in c:\\users\\dai.studentsdc\\appdata\\local\\anaconda3\\lib\\site-packages (from language_tool_python) (4.66.4)\n",
      "Requirement already satisfied: wheel in c:\\users\\dai.studentsdc\\appdata\\local\\anaconda3\\lib\\site-packages (from language_tool_python) (0.43.0)\n",
      "Requirement already satisfied: charset-normalizer<4,>=2 in c:\\users\\dai.studentsdc\\appdata\\local\\anaconda3\\lib\\site-packages (from requests->language_tool_python) (2.0.4)\n",
      "Requirement already satisfied: idna<4,>=2.5 in c:\\users\\dai.studentsdc\\appdata\\local\\anaconda3\\lib\\site-packages (from requests->language_tool_python) (3.7)\n",
      "Requirement already satisfied: urllib3<3,>=1.21.1 in c:\\users\\dai.studentsdc\\appdata\\local\\anaconda3\\lib\\site-packages (from requests->language_tool_python) (2.2.2)\n",
      "Requirement already satisfied: certifi>=2017.4.17 in c:\\users\\dai.studentsdc\\appdata\\local\\anaconda3\\lib\\site-packages (from requests->language_tool_python) (2024.8.30)\n",
      "Requirement already satisfied: colorama in c:\\users\\dai.studentsdc\\appdata\\local\\anaconda3\\lib\\site-packages (from tqdm->language_tool_python) (0.4.6)\n",
      "Downloading language_tool_python-2.8.1-py3-none-any.whl (35 kB)\n",
      "Installing collected packages: language_tool_python\n",
      "Successfully installed language_tool_python-2.8.1\n"
     ]
    }
   ],
   "source": [
    "# Install language tool python\n",
    "!pip install language_tool_python"
   ]
  },
  {
   "cell_type": "code",
   "execution_count": 4,
   "id": "2b4d43f1-9f5e-492e-8f7e-b6cf653dbc2b",
   "metadata": {},
   "outputs": [],
   "source": [
    "import language_tool_python"
   ]
  },
  {
   "cell_type": "code",
   "execution_count": 9,
   "id": "86829f66-cc97-4c43-b7c0-12df53cabeb2",
   "metadata": {},
   "outputs": [],
   "source": [
    "# Download the support for the language\n",
    "my_tool = language_tool_python.LanguageTool('en-US')"
   ]
  },
  {
   "cell_type": "code",
   "execution_count": 10,
   "id": "01aa02eb-e924-41b9-8f1b-fc08517c1165",
   "metadata": {},
   "outputs": [],
   "source": [
    "# define the text\n",
    "my_text = 'He have collected a documents. I is there.'"
   ]
  },
  {
   "cell_type": "code",
   "execution_count": 11,
   "id": "4af58d16-6549-403e-8226-972f2523c508",
   "metadata": {},
   "outputs": [],
   "source": [
    "# get the matches\n",
    "matches = my_tool.check(my_text)"
   ]
  },
  {
   "cell_type": "code",
   "execution_count": 12,
   "id": "5564e8c2-2d67-468d-99d3-4d3cd64eb376",
   "metadata": {},
   "outputs": [
    {
     "data": {
      "text/plain": [
       "3"
      ]
     },
     "execution_count": 12,
     "metadata": {},
     "output_type": "execute_result"
    }
   ],
   "source": [
    "len(matches)"
   ]
  },
  {
   "cell_type": "code",
   "execution_count": 13,
   "id": "09e0e2ed-66fd-4330-a562-6525dbf41ea8",
   "metadata": {},
   "outputs": [
    {
     "name": "stdout",
     "output_type": "stream",
     "text": [
      "Offset 3, length 4, Rule ID: HE_VERB_AGR\n",
      "Message: The pronoun ‘He’ is usually used with a third-person or a past tense verb.\n",
      "Suggestion: has; had\n",
      "He have collected a documents. I is there.\n",
      "   ^^^^\n",
      "Offset 18, length 11, Rule ID: A_NNS\n",
      "Message: The plural noun “documents” cannot be used with the article “a”. Did you mean “a document” or “documents”?\n",
      "Suggestion: a document; documents\n",
      "He have collected a documents. I is there.\n",
      "                  ^^^^^^^^^^^\n",
      "Offset 33, length 2, Rule ID: PERS_PRONOUN_AGREEMENT\n",
      "Message: Did you mean “am” or “will be”?\n",
      "Suggestion: am; will be\n",
      "He have collected a documents. I is there.\n",
      "                                 ^^\n"
     ]
    }
   ],
   "source": [
    "for m in matches:\n",
    "    print(m)"
   ]
  },
  {
   "cell_type": "code",
   "execution_count": 14,
   "id": "d6296b1f-bb74-493a-b67a-1bf062ad4108",
   "metadata": {},
   "outputs": [
    {
     "data": {
      "text/plain": [
       "'He has collected a document. I am there.'"
      ]
     },
     "execution_count": 14,
     "metadata": {},
     "output_type": "execute_result"
    }
   ],
   "source": [
    "my_tool.correct(my_text)"
   ]
  },
  {
   "cell_type": "code",
   "execution_count": 15,
   "id": "6e9987f9-ffeb-4986-884c-fbedf2e47ea3",
   "metadata": {},
   "outputs": [],
   "source": [
    "# define the text\n",
    "my_text = 'He have colletced a documents. I is there.'"
   ]
  },
  {
   "cell_type": "code",
   "execution_count": 16,
   "id": "2a86cc1f-3520-4437-9bee-1841d911036e",
   "metadata": {},
   "outputs": [],
   "source": [
    "# get the matches\n",
    "matches = my_tool.check(my_text)"
   ]
  },
  {
   "cell_type": "code",
   "execution_count": 17,
   "id": "9945a8fb-7bca-49b1-aca5-35c009fb15be",
   "metadata": {},
   "outputs": [
    {
     "name": "stdout",
     "output_type": "stream",
     "text": [
      "Offset 3, length 4, Rule ID: HE_VERB_AGR\n",
      "Message: The pronoun ‘He’ is usually used with a third-person or a past tense verb.\n",
      "Suggestion: has; had\n",
      "He have colletced a documents. I is there.\n",
      "   ^^^^\n",
      "Offset 8, length 9, Rule ID: MORFOLOGIK_RULE_EN_US\n",
      "Message: Possible spelling mistake found.\n",
      "Suggestion: collected\n",
      "He have colletced a documents. I is there.\n",
      "        ^^^^^^^^^\n",
      "Offset 18, length 11, Rule ID: A_NNS\n",
      "Message: The plural noun “documents” cannot be used with the article “a”. Did you mean “a document” or “documents”?\n",
      "Suggestion: a document; documents\n",
      "He have colletced a documents. I is there.\n",
      "                  ^^^^^^^^^^^\n",
      "Offset 33, length 2, Rule ID: PERS_PRONOUN_AGREEMENT\n",
      "Message: Did you mean “am” or “will be”?\n",
      "Suggestion: am; will be\n",
      "He have colletced a documents. I is there.\n",
      "                                 ^^\n"
     ]
    }
   ],
   "source": [
    "for m in matches:\n",
    "    print(m)"
   ]
  },
  {
   "cell_type": "code",
   "execution_count": 18,
   "id": "efcac455-288b-432f-8a8c-2aa16fb132b1",
   "metadata": {},
   "outputs": [
    {
     "data": {
      "text/plain": [
       "'He has collected a document. I am there.'"
      ]
     },
     "execution_count": 18,
     "metadata": {},
     "output_type": "execute_result"
    }
   ],
   "source": [
    "my_tool.correct(my_text)"
   ]
  },
  {
   "cell_type": "code",
   "execution_count": null,
   "id": "d70710da-b2e9-4c18-884e-bd666c4b3795",
   "metadata": {},
   "outputs": [],
   "source": []
  }
 ],
 "metadata": {
  "kernelspec": {
   "display_name": "Python 3 (ipykernel)",
   "language": "python",
   "name": "python3"
  },
  "language_info": {
   "codemirror_mode": {
    "name": "ipython",
    "version": 3
   },
   "file_extension": ".py",
   "mimetype": "text/x-python",
   "name": "python",
   "nbconvert_exporter": "python",
   "pygments_lexer": "ipython3",
   "version": "3.12.4"
  }
 },
 "nbformat": 4,
 "nbformat_minor": 5
}
