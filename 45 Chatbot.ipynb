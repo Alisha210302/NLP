{
 "cells": [
  {
   "cell_type": "code",
   "execution_count": 1,
   "id": "ec780105-80c9-44a9-8f67-d70c50c01af2",
   "metadata": {},
   "outputs": [],
   "source": [
    "import nltk\n",
    "import random\n",
    "from nltk.stem import WordNetLemmatizer"
   ]
  },
  {
   "cell_type": "code",
   "execution_count": 3,
   "id": "41f5ce8c-816a-4584-8a2f-9283ea24827b",
   "metadata": {},
   "outputs": [],
   "source": [
    "# Define the chatbot responses an intents\n",
    "responses = {\n",
    "    'greeting':['Hello','Hi There!','Hey!','Howdy'],\n",
    "    'goodbye':['Goodbye!','See you later','Take care','Bye'],\n",
    "    'thanks':[\"You're welcome\",'Glad to help!','Anytime','Happy to assist'],\n",
    "    'default':['Sorry I did not understand','Can you tell again?','I am not sure.']\n",
    "}"
   ]
  },
  {
   "cell_type": "code",
   "execution_count": 5,
   "id": "5d72bb3d-cfa1-467c-b11b-fc85f6ed17b5",
   "metadata": {},
   "outputs": [],
   "source": [
    "# simple set of questions and responses/patterns\n",
    "patterns = {\n",
    "    'hi':'greeting',\n",
    "    'hello':'greeting',\n",
    "    'hey':'greeting',\n",
    "    'bye':'goodbye',\n",
    "    'thanks':'thanks',\n",
    "    'thank you':'thanks'\n",
    "}"
   ]
  },
  {
   "cell_type": "code",
   "execution_count": 13,
   "id": "5b1f69c9-435b-406f-ba8d-9ff0c82a1909",
   "metadata": {},
   "outputs": [],
   "source": [
    "# Matches the user input\n",
    "def respond(user_input):\n",
    "    for word in nltk.word_tokenize(user_input.lower()):\n",
    "        if word in patterns:\n",
    "            intent = patterns[word]\n",
    "            return random.choice(responses[intent])\n",
    "    return random.choice(responses['default'])"
   ]
  },
  {
   "cell_type": "code",
   "execution_count": 14,
   "id": "fdde7ef3-7b7d-419f-b0a0-9a395f78c4c9",
   "metadata": {},
   "outputs": [
    {
     "data": {
      "text/plain": [
       "'Anytime'"
      ]
     },
     "execution_count": 14,
     "metadata": {},
     "output_type": "execute_result"
    }
   ],
   "source": [
    "respond('thanks a lot')"
   ]
  },
  {
   "cell_type": "code",
   "execution_count": 15,
   "id": "a8630f91-103a-4831-b25e-b3c32f8a696c",
   "metadata": {},
   "outputs": [
    {
     "data": {
      "text/plain": [
       "'Hi There!'"
      ]
     },
     "execution_count": 15,
     "metadata": {},
     "output_type": "execute_result"
    }
   ],
   "source": [
    "respond('Hello')"
   ]
  },
  {
   "cell_type": "code",
   "execution_count": 17,
   "id": "90093ed3-af44-4a90-8b63-2307c25b9125",
   "metadata": {},
   "outputs": [
    {
     "data": {
      "text/plain": [
       "'Happy to assist'"
      ]
     },
     "execution_count": 17,
     "metadata": {},
     "output_type": "execute_result"
    }
   ],
   "source": [
    "respond('thanks')"
   ]
  },
  {
   "cell_type": "code",
   "execution_count": 18,
   "id": "746ec646-c11f-4921-84ca-df3145824b73",
   "metadata": {},
   "outputs": [
    {
     "data": {
      "text/plain": [
       "'Howdy'"
      ]
     },
     "execution_count": 18,
     "metadata": {},
     "output_type": "execute_result"
    }
   ],
   "source": [
    "respond('Hi')"
   ]
  },
  {
   "cell_type": "code",
   "execution_count": 22,
   "id": "225024c4-0e1f-4c3a-a6f5-eddd81147be8",
   "metadata": {},
   "outputs": [],
   "source": [
    "# Define function for chatting\n",
    "def chat():\n",
    "    print('Chatbot: How can I help you today? (Type \"exit\") to quit')\n",
    "    while True:\n",
    "        user_input = input('You: ')\n",
    "        if user_input.lower() == 'exit':\n",
    "            print('Chatbot:Goodbye!')\n",
    "            break\n",
    "        response = respond(user_input)\n",
    "        print('Chatbot: ',response)"
   ]
  },
  {
   "cell_type": "code",
   "execution_count": 23,
   "id": "e79c4d8f-20ae-4589-b598-35b95e6d0591",
   "metadata": {},
   "outputs": [
    {
     "name": "stdout",
     "output_type": "stream",
     "text": [
      "Chatbot: How can I help you today? (Type \"exit\") to quit\n"
     ]
    },
    {
     "name": "stdin",
     "output_type": "stream",
     "text": [
      "You:  Exit\n"
     ]
    },
    {
     "name": "stdout",
     "output_type": "stream",
     "text": [
      "Chatbot:Goodbye!\n"
     ]
    }
   ],
   "source": [
    "chat()"
   ]
  },
  {
   "cell_type": "code",
   "execution_count": null,
   "id": "b549c9aa-60e9-4197-9ce5-7e19e0dd610f",
   "metadata": {},
   "outputs": [],
   "source": []
  }
 ],
 "metadata": {
  "kernelspec": {
   "display_name": "Python 3 (ipykernel)",
   "language": "python",
   "name": "python3"
  },
  "language_info": {
   "codemirror_mode": {
    "name": "ipython",
    "version": 3
   },
   "file_extension": ".py",
   "mimetype": "text/x-python",
   "name": "python",
   "nbconvert_exporter": "python",
   "pygments_lexer": "ipython3",
   "version": "3.12.4"
  }
 },
 "nbformat": 4,
 "nbformat_minor": 5
}
