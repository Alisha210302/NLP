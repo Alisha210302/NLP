{
 "cells": [
  {
   "cell_type": "code",
   "execution_count": 1,
   "id": "7e6b3895-2ce7-4d5a-9452-fb4eba6a9723",
   "metadata": {},
   "outputs": [
    {
     "name": "stdout",
     "output_type": "stream",
     "text": [
      "Requirement already satisfied: textblob in c:\\users\\dai.studentsdc\\appdata\\local\\anaconda3\\lib\\site-packages (0.18.0.post0)\n",
      "Requirement already satisfied: nltk>=3.8 in c:\\users\\dai.studentsdc\\appdata\\local\\anaconda3\\lib\\site-packages (from textblob) (3.9.1)\n",
      "Requirement already satisfied: click in c:\\users\\dai.studentsdc\\appdata\\local\\anaconda3\\lib\\site-packages (from nltk>=3.8->textblob) (8.1.7)\n",
      "Requirement already satisfied: joblib in c:\\users\\dai.studentsdc\\appdata\\local\\anaconda3\\lib\\site-packages (from nltk>=3.8->textblob) (1.4.2)\n",
      "Requirement already satisfied: regex>=2021.8.3 in c:\\users\\dai.studentsdc\\appdata\\local\\anaconda3\\lib\\site-packages (from nltk>=3.8->textblob) (2023.10.3)\n",
      "Requirement already satisfied: tqdm in c:\\users\\dai.studentsdc\\appdata\\local\\anaconda3\\lib\\site-packages (from nltk>=3.8->textblob) (4.66.4)\n",
      "Requirement already satisfied: colorama in c:\\users\\dai.studentsdc\\appdata\\local\\anaconda3\\lib\\site-packages (from click->nltk>=3.8->textblob) (0.4.6)\n",
      "Note: you may need to restart the kernel to use updated packages.\n"
     ]
    }
   ],
   "source": [
    "pip install textblob"
   ]
  },
  {
   "cell_type": "code",
   "execution_count": 2,
   "id": "25a6579c-7018-455d-a91a-6abbd2ea1ce7",
   "metadata": {},
   "outputs": [],
   "source": [
    "from textblob import TextBlob"
   ]
  },
  {
   "cell_type": "code",
   "execution_count": 3,
   "id": "5306248e-1cb1-401c-a23d-e728491e2d7f",
   "metadata": {},
   "outputs": [],
   "source": [
    "word = 'komputar'\n",
    "blob = TextBlob(word)"
   ]
  },
  {
   "cell_type": "code",
   "execution_count": 4,
   "id": "c669f033-8ec6-40ed-bc09-4e759530a115",
   "metadata": {},
   "outputs": [
    {
     "data": {
      "text/plain": [
       "TextBlob(\"computer\")"
      ]
     },
     "execution_count": 4,
     "metadata": {},
     "output_type": "execute_result"
    }
   ],
   "source": [
    "blob.correct()"
   ]
  },
  {
   "cell_type": "code",
   "execution_count": 5,
   "id": "203ddbf4-e649-4c69-85bf-16ca1258d35e",
   "metadata": {},
   "outputs": [
    {
     "data": {
      "text/plain": [
       "defaultdict(int, {'komputar': 1})"
      ]
     },
     "execution_count": 5,
     "metadata": {},
     "output_type": "execute_result"
    }
   ],
   "source": [
    "blob.word_counts"
   ]
  },
  {
   "cell_type": "code",
   "execution_count": 6,
   "id": "b6c5e6d8-0d4a-48af-9519-9ce918c4d10c",
   "metadata": {},
   "outputs": [],
   "source": [
    "sent = 'It was a graet day. When they play on the gruond.'"
   ]
  },
  {
   "cell_type": "code",
   "execution_count": 7,
   "id": "fa49fe59-8c25-4f9c-b405-13e22ebc954e",
   "metadata": {},
   "outputs": [],
   "source": [
    "blob = TextBlob(sent)"
   ]
  },
  {
   "cell_type": "code",
   "execution_count": 8,
   "id": "f1aad46a-b5ad-4c1d-881d-e4da6cfcee4d",
   "metadata": {},
   "outputs": [
    {
     "data": {
      "text/plain": [
       "TextBlob(\"It was a great day. When they play on the ground.\")"
      ]
     },
     "execution_count": 8,
     "metadata": {},
     "output_type": "execute_result"
    }
   ],
   "source": [
    "blob.correct()"
   ]
  },
  {
   "cell_type": "code",
   "execution_count": 10,
   "id": "9cb4edf7-eaab-45bc-ba35-9b6e0419f4b0",
   "metadata": {},
   "outputs": [
    {
     "data": {
      "text/plain": [
       "defaultdict(int,\n",
       "            {'it': 1,\n",
       "             'was': 1,\n",
       "             'a': 1,\n",
       "             'graet': 1,\n",
       "             'day': 1,\n",
       "             'when': 1,\n",
       "             'they': 1,\n",
       "             'play': 1,\n",
       "             'on': 1,\n",
       "             'the': 1,\n",
       "             'gruond': 1})"
      ]
     },
     "execution_count": 10,
     "metadata": {},
     "output_type": "execute_result"
    }
   ],
   "source": [
    "blob.word_counts"
   ]
  },
  {
   "cell_type": "code",
   "execution_count": 21,
   "id": "a7b45a25-07fe-4f9e-9b2a-b452fdd5e823",
   "metadata": {},
   "outputs": [
    {
     "data": {
      "text/plain": [
       "WordList(['It', 'was', 'a', 'graet', 'day', '.', 'When', 'they', 'play', 'on', 'the', 'gruond', '.'])"
      ]
     },
     "execution_count": 21,
     "metadata": {},
     "output_type": "execute_result"
    }
   ],
   "source": [
    "blob.tokenize() # Here there are punctuation symbols"
   ]
  },
  {
   "cell_type": "code",
   "execution_count": 22,
   "id": "83687d16-d17c-4cfb-90ab-2779b985e702",
   "metadata": {},
   "outputs": [
    {
     "name": "stderr",
     "output_type": "stream",
     "text": [
      "[nltk_data] Downloading package averaged_perceptron_tagger_eng to\n",
      "[nltk_data]     C:\\Users\\DAI.STUDENTSDC\\AppData\\Roaming\\nltk_data...\n",
      "[nltk_data]   Package averaged_perceptron_tagger_eng is already up-to-\n",
      "[nltk_data]       date!\n"
     ]
    },
    {
     "data": {
      "text/plain": [
       "True"
      ]
     },
     "execution_count": 22,
     "metadata": {},
     "output_type": "execute_result"
    }
   ],
   "source": [
    "import nltk\n",
    "nltk.download('averaged_perceptron_tagger_eng')\n",
    "  "
   ]
  },
  {
   "cell_type": "code",
   "execution_count": 23,
   "id": "6cffe26c-8132-4479-b360-789a0ac21e7d",
   "metadata": {},
   "outputs": [
    {
     "data": {
      "text/plain": [
       "[('It', 'PRP'),\n",
       " ('was', 'VBD'),\n",
       " ('a', 'DT'),\n",
       " ('graet', 'JJ'),\n",
       " ('day', 'NN'),\n",
       " ('When', 'WRB'),\n",
       " ('they', 'PRP'),\n",
       " ('play', 'VBP'),\n",
       " ('on', 'IN'),\n",
       " ('the', 'DT'),\n",
       " ('gruond', 'NN')]"
      ]
     },
     "execution_count": 23,
     "metadata": {},
     "output_type": "execute_result"
    }
   ],
   "source": [
    "blob.pos_tags"
   ]
  },
  {
   "cell_type": "code",
   "execution_count": 24,
   "id": "d36c01c7-e408-41fa-a15d-a2436040aa80",
   "metadata": {},
   "outputs": [
    {
     "data": {
      "text/plain": [
       "WordList(['It', 'was', 'a', 'graet', 'day', 'When', 'they', 'play', 'on', 'the', 'gruond'])"
      ]
     },
     "execution_count": 24,
     "metadata": {},
     "output_type": "execute_result"
    }
   ],
   "source": [
    "blob.words # here no punctuation symbols"
   ]
  },
  {
   "cell_type": "code",
   "execution_count": 29,
   "id": "23c7aadd-4acc-4bd8-98d0-8514e1fd3000",
   "metadata": {},
   "outputs": [
    {
     "data": {
      "text/plain": [
       "WordList(['It', 'was', 'a', 'great', 'day', '.', 'When', 'they', 'play', 'on', 'the', 'ground', '.'])"
      ]
     },
     "execution_count": 29,
     "metadata": {},
     "output_type": "execute_result"
    }
   ],
   "source": [
    "blob.correct().tokens"
   ]
  },
  {
   "cell_type": "code",
   "execution_count": 30,
   "id": "12af778c-52e6-4b8b-94ef-428d5d580235",
   "metadata": {},
   "outputs": [
    {
     "data": {
      "text/plain": [
       "[Sentence(\"It was a great day.\"), Sentence(\"When they play on the ground.\")]"
      ]
     },
     "execution_count": 30,
     "metadata": {},
     "output_type": "execute_result"
    }
   ],
   "source": [
    "blob.correct().sentences"
   ]
  },
  {
   "cell_type": "code",
   "execution_count": null,
   "id": "653076ae-391c-4ab9-ba84-1dd5c68f0554",
   "metadata": {},
   "outputs": [],
   "source": []
  }
 ],
 "metadata": {
  "kernelspec": {
   "display_name": "Python 3 (ipykernel)",
   "language": "python",
   "name": "python3"
  },
  "language_info": {
   "codemirror_mode": {
    "name": "ipython",
    "version": 3
   },
   "file_extension": ".py",
   "mimetype": "text/x-python",
   "name": "python",
   "nbconvert_exporter": "python",
   "pygments_lexer": "ipython3",
   "version": "3.12.4"
  }
 },
 "nbformat": 4,
 "nbformat_minor": 5
}
